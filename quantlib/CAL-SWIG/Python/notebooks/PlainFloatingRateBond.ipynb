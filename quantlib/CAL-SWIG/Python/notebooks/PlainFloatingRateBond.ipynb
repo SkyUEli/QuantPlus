{
 "metadata": {
  "name": ""
 },
 "nbformat": 3,
 "nbformat_minor": 0,
 "worksheets": [
  {
   "cells": [
    {
     "cell_type": "code",
     "collapsed": false,
     "input": [
      "from CAL import *"
     ],
     "language": "python",
     "metadata": {},
     "outputs": [],
     "prompt_number": 1
    },
    {
     "cell_type": "code",
     "collapsed": false,
     "input": [
      "# A dummy floating rate bond based on Shibor\n",
      "# This is not a newly issued bond, i.e.\n",
      "# startDate < evaluationDate < matrity\n",
      "todayDate = Date.todaysDate()\n",
      "Settings.instance().setEvaluationDate(todayDate)\n",
      "shiborCurveHandle = YieldTermStructureHandle(FlatForward(todayDate, 0.05, Actual360()))\n",
      "shiborIndex = Shibor(Period(3, Months), shiborCurveHandle)\n",
      "settlementDays = 1\n",
      "faceAmount = 100.0\n",
      "startDate = Date(8, 1, 2010)\n",
      "maturity = Date(8,1, 2020)\n",
      "schedule = Schedule(startDate, maturity, Period(3, Months), China(), Unadjusted, Unadjusted, DateGeneration.Backward, False)\n",
      "                    \n",
      "myBond = PlainFloatingRateBond(settlementDays, faceAmount, startDate, maturity, NullCalendar(), shiborIndex, Actual365NoLeap(), Unadjusted, Unadjusted)"
     ],
     "language": "python",
     "metadata": {},
     "outputs": [],
     "prompt_number": 2
    },
    {
     "cell_type": "code",
     "collapsed": false,
     "input": [
      "discountingCuvreHandle = YieldTermStructureHandle(FlatForward(todayDate, 0.06, Actual360()))\n",
      "discountingEngine = DiscountingBondEngine(discountingCuvreHandle)"
     ],
     "language": "python",
     "metadata": {},
     "outputs": [],
     "prompt_number": 3
    },
    {
     "cell_type": "code",
     "collapsed": false,
     "input": [
      "# Here since we have a floating coupon payments on Arp 8, 2014. And this coupon is fixed at January 7, 2014\n",
      "# We need to add one historical index\n",
      "# Besides as settlementDays !=0, NPV should be different with dirty price\n",
      "shiborIndex.addFixing(Date(7, 1, 2014), 0.06)\n",
      "myBond.setPricingEngine(discountingEngine)\n",
      "print \"%-15s%15.4f\" % (\"NPV: \", myBond.NPV())\n",
      "print \"%-15s%15.4f\" % (\"Dirty Price: \", myBond.dirtyPrice())\n",
      "print \"%-15s%15.4f\" % (\"Clean Price: \", myBond.cleanPrice())\n",
      "print \"%-15s%15.4f\" % (\"YTM: \", myBond.bondYield(Actual365Fixed(), Continuous, Annual)*100)\n",
      "print \"%-15s%15.4f\" % (\"Accrued: \", myBond.accruedAmount())\n",
      "print \"%-15s%15.4f\" % (\"Next coupon: \", myBond.nextCouponRate()*100)"
     ],
     "language": "python",
     "metadata": {},
     "outputs": [
      {
       "output_type": "stream",
       "stream": "stdout",
       "text": [
        "NPV:                   94.9964\n",
        "Dirty Price:           95.0123\n",
        "Clean Price:           94.7328\n",
        "YTM:                    6.0833\n",
        "Accrued:                0.2795\n",
        "Next coupon:            6.0000\n"
       ]
      }
     ],
     "prompt_number": 4
    },
    {
     "cell_type": "code",
     "collapsed": false,
     "input": [],
     "language": "python",
     "metadata": {},
     "outputs": []
    }
   ],
   "metadata": {}
  }
 ]
}