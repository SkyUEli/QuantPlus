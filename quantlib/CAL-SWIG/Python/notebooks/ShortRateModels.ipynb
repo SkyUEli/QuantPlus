{
 "metadata": {
  "name": ""
 },
 "nbformat": 3,
 "nbformat_minor": 0,
 "worksheets": [
  {
   "cells": [
    {
     "cell_type": "code",
     "collapsed": false,
     "input": [
      "from CAL import *\n",
      "from math import *"
     ],
     "language": "python",
     "metadata": {},
     "outputs": [],
     "prompt_number": 1
    },
    {
     "cell_type": "code",
     "collapsed": false,
     "input": [
      "# Let's build on a callable bond and price it with different models\n",
      "today = CAL.Date(16, CAL.October, 2007)\n",
      "CAL.Settings.instance().setEvaluationDate(today)\n",
      "bbCurveRate = 0.055;\n",
      "bbDayCounter = CAL.ActualActual(CAL.ActualActual.Bond)\n",
      "bbIR = CAL.InterestRate(bbCurveRate,bbDayCounter,CAL.Compounded,CAL.Semiannual)\n",
      "termStructure = CAL.YieldTermStructureHandle(CAL.FlatForward(today, bbIR.rate(), \n",
      "                                                             bbIR.dayCounter(), bbIR.compounding(), bbIR.frequency()))"
     ],
     "language": "python",
     "metadata": {},
     "outputs": [],
     "prompt_number": 2
    },
    {
     "cell_type": "code",
     "collapsed": false,
     "input": [
      "# set up the call schedule\n",
      "# call for every 3 months\n",
      "callSchedule = CAL.CallabilitySchedule()\n",
      "callPrice = 100.0\n",
      "numberOfCallDates = 24\n",
      "callDate = CAL.Date(15,CAL.September,2006)\n",
      "nullCalendar = CAL.NullCalendar();\n",
      "for i in xrange(numberOfCallDates):\n",
      "    myPrice = CAL.CallabilityPrice(callPrice, CAL.CallabilityPrice.Clean)\n",
      "    callSchedule.push_back(CAL.Callability(myPrice, CAL.Callability.Call, callDate))\n",
      "    callDate = nullCalendar.advance(callDate, 3, CAL.Months)\n",
      "# set up the callable bond\n",
      "dated = CAL.Date(16,CAL.September,2004)\n",
      "issue = dated\n",
      "maturity = CAL.Date(15,CAL.September,2012)\n",
      "settlementDays = 3\n",
      "bondCalendar = CAL.UnitedStates(CAL.UnitedStates.GovernmentBond)\n",
      "coupon = .0465;\n",
      "frequency = CAL.Quarterly;\n",
      "redemption = 100.0;\n",
      "faceAmount = 100.0;\n",
      "bondDayCounter = CAL.ActualActual(CAL.ActualActual.Bond);\n",
      "accrualConvention = CAL.Unadjusted;\n",
      "paymentConvention = CAL.Unadjusted;\n",
      "sch = CAL.Schedule(dated, maturity, CAL.Period(frequency), bondCalendar,\n",
      "                     accrualConvention, accrualConvention,\n",
      "                     CAL.DateGeneration.Backward, False);"
     ],
     "language": "python",
     "metadata": {},
     "outputs": [],
     "prompt_number": 3
    },
    {
     "cell_type": "code",
     "collapsed": false,
     "input": [
      "# Yield price for Hull-White\n",
      "sigma = 0.05\n",
      "reversionParameter = 0.5\n",
      "gridIntervals = 500\n",
      "hw0 = HullWhite(termStructure,reversionParameter,sigma)\n",
      "engine0 = TreeCallableFixedRateBondEngine(hw0,gridIntervals)\n",
      "callableBond = CallableFixedRateBond(settlementDays, faceAmount, sch,\n",
      "                                           [coupon],\n",
      "                                           bondDayCounter, callSchedule, paymentConvention,\n",
      "                                           redemption, issue)\n",
      "callableBond.setPricingEngine(engine0)\n",
      "calculatedPrice = callableBond.cleanPrice() \n",
      "calculatedYield = callableBond.bondYield(Actual365Fixed(), Continuous, Annual)\n",
      "print \"%-15s%-15s%15.4f\" %(\"Hull-White\", \"Clean Price:\", calculatedPrice)\n",
      "print \"%-15s%-15s%15.4f\" %(\"\", \"YTM\", calculatedYield*100)"
     ],
     "language": "python",
     "metadata": {},
     "outputs": [
      {
       "output_type": "stream",
       "stream": "stdout",
       "text": [
        "Hull-White     Clean Price:           93.3601\n",
        "               YTM                     6.1757\n"
       ]
      }
     ],
     "prompt_number": 4
    },
    {
     "cell_type": "code",
     "collapsed": false,
     "input": [
      "# Yield price for Black-Karasanski\n",
      "sigma = 0.05 / 0.055\n",
      "bk = BlackKarasinski(termStructure, reversionParameter, sigma)\n",
      "engine0 = TreeCallableFixedRateBondEngine(bk,gridIntervals)\n",
      "callableBond.setPricingEngine(engine0)\n",
      "calculatedPrice = callableBond.cleanPrice() \n",
      "calculatedYield = callableBond.bondYield(Actual365Fixed(), Continuous, Annual)\n",
      "print \"%-15s%-15s%15.4f\" %(\"Black-Karasanski\", \"Clean Price:\", calculatedPrice)\n",
      "print \"%-15s%-15s%15.4f\" %(\"\", \"YTM\", calculatedYield*100)"
     ],
     "language": "python",
     "metadata": {},
     "outputs": [
      {
       "output_type": "stream",
       "stream": "stdout",
       "text": [
        "Black-KarasanskiClean Price:           94.1685\n",
        "               YTM                     5.9798\n"
       ]
      }
     ],
     "prompt_number": 5
    },
    {
     "cell_type": "code",
     "collapsed": false,
     "input": [
      "# Yield price for Vasciek\n",
      "sigma = 0.05\n",
      "vasciek = Vasicek(0.055, reversionParameter, 0.055, sigma)\n",
      "engine0 = TreeCallableFixedRateBondEngine(vasciek,gridIntervals, termStructure)\n",
      "callableBond.setPricingEngine(engine0)\n",
      "calculatedPrice = callableBond.cleanPrice() \n",
      "calculatedYield = callableBond.bondYield(Actual365Fixed(), Continuous, Annual)\n",
      "print \"%-15s%-15s%15.4f\" %(\"Vasciek\", \"Clean Price:\", calculatedPrice)\n",
      "print \"%-15s%-15s%15.4f\" %(\"\", \"YTM\", calculatedYield*100)"
     ],
     "language": "python",
     "metadata": {},
     "outputs": [
      {
       "output_type": "stream",
       "stream": "stdout",
       "text": [
        "Vasciek        Clean Price:           93.6340\n",
        "               YTM                     6.1091\n"
       ]
      }
     ],
     "prompt_number": 6
    },
    {
     "cell_type": "code",
     "collapsed": false,
     "input": [
      "# Yield price for Cox-Ingersoll-Ross. However the result is not so reliable as the previous\n",
      "sigma = 0.15\n",
      "cir = CoxIngersollRoss(0.055, 0.055, reversionParameter, sigma)\n",
      "engine0 = TreeCallableFixedRateBondEngine(cir,gridIntervals, termStructure)\n",
      "callableBond.setPricingEngine(engine0)\n",
      "calculatedPrice = callableBond.cleanPrice() \n",
      "calculatedYield = callableBond.bondYield(Actual365Fixed(), Continuous, Annual)\n",
      "print \"%-15s%-15s%15.4f\" %(\"CIR\", \"Clean Price:\", calculatedPrice)\n",
      "print \"%-15s%-15s%15.4f\" %(\"\", \"YTM\", calculatedYield*100)"
     ],
     "language": "python",
     "metadata": {},
     "outputs": [
      {
       "output_type": "stream",
       "stream": "stdout",
       "text": [
        "CIR            Clean Price:           95.0293\n",
        "               YTM                     5.7731\n"
       ]
      }
     ],
     "prompt_number": 7
    },
    {
     "cell_type": "code",
     "collapsed": false,
     "input": [
      "# Yield price for ExtendedCox-Ingersoll-Ross. However the result is not so reliable as the previous\n",
      "sigma = 0.15\n",
      "cir = ExtendedCoxIngersollRoss(termStructure, 0.055, reversionParameter, sigma, 0.055) \n",
      "engine0 = TreeCallableFixedRateBondEngine(cir,gridIntervals, termStructure)\n",
      "callableBond.setPricingEngine(engine0)\n",
      "calculatedPrice = callableBond.cleanPrice() \n",
      "calculatedYield = callableBond.bondYield(Actual365Fixed(), Continuous, Annual)\n",
      "print \"%-15s%-15s%15.4f\" %(\"Extended CIR\", \"Clean Price:\", calculatedPrice)\n",
      "print \"%-15s%-15s%15.4f\" %(\"\", \"YTM\", calculatedYield*100)"
     ],
     "language": "python",
     "metadata": {},
     "outputs": [
      {
       "output_type": "stream",
       "stream": "stdout",
       "text": [
        "Extended CIR   Clean Price:           95.0105\n",
        "               YTM                     5.7776\n"
       ]
      }
     ],
     "prompt_number": 8
    },
    {
     "cell_type": "code",
     "collapsed": false,
     "input": [],
     "language": "python",
     "metadata": {},
     "outputs": [],
     "prompt_number": 8
    }
   ],
   "metadata": {}
  }
 ]
}