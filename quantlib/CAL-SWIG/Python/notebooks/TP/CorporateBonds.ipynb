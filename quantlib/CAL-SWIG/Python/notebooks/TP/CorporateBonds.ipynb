{
 "metadata": {
  "name": "",
  "signature": "sha256:4d9935e237ecb29835d6835d341c3cca7c1859f5f07848d68a71d9bf9af47a4f"
 },
 "nbformat": 3,
 "nbformat_minor": 0,
 "worksheets": [
  {
   "cells": [
    {
     "cell_type": "code",
     "collapsed": false,
     "input": [
      "import pandas as pd\n",
      "import numpy as np"
     ],
     "language": "python",
     "metadata": {},
     "outputs": [],
     "prompt_number": 1
    },
    {
     "cell_type": "code",
     "collapsed": false,
     "input": [
      "res = pd.read_excel(u'11.04.2014/SX.xlsx', 'OM_954E')"
     ],
     "language": "python",
     "metadata": {},
     "outputs": [],
     "prompt_number": 4
    },
    {
     "cell_type": "code",
     "collapsed": false,
     "input": [
      "res = res.fillna(0)"
     ],
     "language": "python",
     "metadata": {},
     "outputs": [],
     "prompt_number": 6
    },
    {
     "cell_type": "code",
     "collapsed": false,
     "input": [
      "groupRes = res.groupby('ISSR_NAME')"
     ],
     "language": "python",
     "metadata": {},
     "outputs": [],
     "prompt_number": 8
    },
    {
     "cell_type": "code",
     "collapsed": false,
     "input": [
      "countRes = groupRes.count()"
     ],
     "language": "python",
     "metadata": {},
     "outputs": [],
     "prompt_number": 10
    },
    {
     "cell_type": "code",
     "collapsed": false,
     "input": [
      "corpBonds = groupRes.get_group(0)"
     ],
     "language": "python",
     "metadata": {},
     "outputs": [],
     "prompt_number": 12
    },
    {
     "cell_type": "code",
     "collapsed": false,
     "input": [
      "corpBonds = corpBonds[corpBonds['OFFC_CODE2'] != 0]"
     ],
     "language": "python",
     "metadata": {},
     "outputs": [],
     "prompt_number": 13
    },
    {
     "cell_type": "code",
     "collapsed": false,
     "input": [
      "corpCounts = corpBonds.groupby('OFFC_CODE2')"
     ],
     "language": "python",
     "metadata": {},
     "outputs": [],
     "prompt_number": 16
    },
    {
     "cell_type": "code",
     "collapsed": false,
     "input": [
      "corpCounts = corpCounts.count()"
     ],
     "language": "python",
     "metadata": {},
     "outputs": [],
     "prompt_number": 17
    },
    {
     "cell_type": "code",
     "collapsed": false,
     "input": [
      "corpCounts.sort('ISSR_NAME', inplace= True, ascending= False)"
     ],
     "language": "python",
     "metadata": {},
     "outputs": [],
     "prompt_number": 20
    },
    {
     "cell_type": "code",
     "collapsed": false,
     "input": [
      "corpCounts[:5]"
     ],
     "language": "python",
     "metadata": {},
     "outputs": [
      {
       "html": [
        "<div style=\"max-height:1000px;max-width:1500px;overflow:auto;\">\n",
        "<table border=\"1\" class=\"dataframe\">\n",
        "  <thead>\n",
        "    <tr style=\"text-align: right;\">\n",
        "      <th></th>\n",
        "      <th>Index</th>\n",
        "      <th>Symbol</th>\n",
        "      <th>Time</th>\n",
        "      <th>DELETED_TIME</th>\n",
        "      <th>TICK_STATUS</th>\n",
        "      <th>DSPLY_NAME</th>\n",
        "      <th>YIELD</th>\n",
        "      <th>MATUR_DATE</th>\n",
        "      <th>COUPN_RATE</th>\n",
        "      <th>OFFCL_CODE</th>\n",
        "      <th>SEG_TEXT</th>\n",
        "      <th>PAY_FREQ</th>\n",
        "      <th>OFFC_CODE2</th>\n",
        "      <th>ISSR_NAME</th>\n",
        "      <th>CPN_TYPE</th>\n",
        "      <th>DCNT_BASIS</th>\n",
        "    </tr>\n",
        "    <tr>\n",
        "      <th>OFFC_CODE2</th>\n",
        "      <th></th>\n",
        "      <th></th>\n",
        "      <th></th>\n",
        "      <th></th>\n",
        "      <th></th>\n",
        "      <th></th>\n",
        "      <th></th>\n",
        "      <th></th>\n",
        "      <th></th>\n",
        "      <th></th>\n",
        "      <th></th>\n",
        "      <th></th>\n",
        "      <th></th>\n",
        "      <th></th>\n",
        "      <th></th>\n",
        "      <th></th>\n",
        "    </tr>\n",
        "  </thead>\n",
        "  <tbody>\n",
        "    <tr>\n",
        "      <th>1182160  </th>\n",
        "      <td> 259</td>\n",
        "      <td> 259</td>\n",
        "      <td> 259</td>\n",
        "      <td> 259</td>\n",
        "      <td> 259</td>\n",
        "      <td> 259</td>\n",
        "      <td> 259</td>\n",
        "      <td> 259</td>\n",
        "      <td> 259</td>\n",
        "      <td> 259</td>\n",
        "      <td> 259</td>\n",
        "      <td> 259</td>\n",
        "      <td> 259</td>\n",
        "      <td> 259</td>\n",
        "      <td> 259</td>\n",
        "      <td> 259</td>\n",
        "    </tr>\n",
        "    <tr>\n",
        "      <th>1282423  </th>\n",
        "      <td> 257</td>\n",
        "      <td> 257</td>\n",
        "      <td> 257</td>\n",
        "      <td> 257</td>\n",
        "      <td> 257</td>\n",
        "      <td> 257</td>\n",
        "      <td> 257</td>\n",
        "      <td> 257</td>\n",
        "      <td> 257</td>\n",
        "      <td> 257</td>\n",
        "      <td> 257</td>\n",
        "      <td> 257</td>\n",
        "      <td> 257</td>\n",
        "      <td> 257</td>\n",
        "      <td> 257</td>\n",
        "      <td> 257</td>\n",
        "    </tr>\n",
        "    <tr>\n",
        "      <th>101354007</th>\n",
        "      <td> 256</td>\n",
        "      <td> 256</td>\n",
        "      <td> 256</td>\n",
        "      <td> 256</td>\n",
        "      <td> 256</td>\n",
        "      <td> 256</td>\n",
        "      <td> 256</td>\n",
        "      <td> 256</td>\n",
        "      <td> 256</td>\n",
        "      <td> 256</td>\n",
        "      <td> 256</td>\n",
        "      <td> 256</td>\n",
        "      <td> 256</td>\n",
        "      <td> 256</td>\n",
        "      <td> 256</td>\n",
        "      <td> 256</td>\n",
        "    </tr>\n",
        "    <tr>\n",
        "      <th>101353004</th>\n",
        "      <td> 256</td>\n",
        "      <td> 256</td>\n",
        "      <td> 256</td>\n",
        "      <td> 256</td>\n",
        "      <td> 256</td>\n",
        "      <td> 256</td>\n",
        "      <td> 256</td>\n",
        "      <td> 256</td>\n",
        "      <td> 256</td>\n",
        "      <td> 256</td>\n",
        "      <td> 256</td>\n",
        "      <td> 256</td>\n",
        "      <td> 256</td>\n",
        "      <td> 256</td>\n",
        "      <td> 256</td>\n",
        "      <td> 256</td>\n",
        "    </tr>\n",
        "    <tr>\n",
        "      <th>1282031  </th>\n",
        "      <td> 255</td>\n",
        "      <td> 255</td>\n",
        "      <td> 255</td>\n",
        "      <td> 255</td>\n",
        "      <td> 255</td>\n",
        "      <td> 255</td>\n",
        "      <td> 255</td>\n",
        "      <td> 255</td>\n",
        "      <td> 255</td>\n",
        "      <td> 255</td>\n",
        "      <td> 255</td>\n",
        "      <td> 255</td>\n",
        "      <td> 255</td>\n",
        "      <td> 255</td>\n",
        "      <td> 255</td>\n",
        "      <td> 255</td>\n",
        "    </tr>\n",
        "  </tbody>\n",
        "</table>\n",
        "<p>5 rows \u00d7 16 columns</p>\n",
        "</div>"
       ],
       "metadata": {},
       "output_type": "pyout",
       "prompt_number": 21,
       "text": [
        "            Index  Symbol  Time  DELETED_TIME  TICK_STATUS  DSPLY_NAME  YIELD  \\\n",
        "OFFC_CODE2                                                                      \n",
        "1182160       259     259   259           259          259         259    259   \n",
        "1282423       257     257   257           257          257         257    257   \n",
        "101354007     256     256   256           256          256         256    256   \n",
        "101353004     256     256   256           256          256         256    256   \n",
        "1282031       255     255   255           255          255         255    255   \n",
        "\n",
        "            MATUR_DATE  COUPN_RATE  OFFCL_CODE  SEG_TEXT  PAY_FREQ  \\\n",
        "OFFC_CODE2                                                           \n",
        "1182160            259         259         259       259       259   \n",
        "1282423            257         257         257       257       257   \n",
        "101354007          256         256         256       256       256   \n",
        "101353004          256         256         256       256       256   \n",
        "1282031            255         255         255       255       255   \n",
        "\n",
        "            OFFC_CODE2  ISSR_NAME  CPN_TYPE  DCNT_BASIS  \n",
        "OFFC_CODE2                                               \n",
        "1182160            259        259       259         259  \n",
        "1282423            257        257       257         257  \n",
        "101354007          256        256       256         256  \n",
        "101353004          256        256       256         256  \n",
        "1282031            255        255       255         255  \n",
        "\n",
        "[5 rows x 16 columns]"
       ]
      }
     ],
     "prompt_number": 21
    },
    {
     "cell_type": "code",
     "collapsed": false,
     "input": [
      "from CAL import *"
     ],
     "language": "python",
     "metadata": {},
     "outputs": [],
     "prompt_number": 2
    },
    {
     "cell_type": "code",
     "collapsed": false,
     "input": [
      "startDate = Date(25, 12, 2012)\n",
      "endDate = Date(25, 12, 2019)"
     ],
     "language": "python",
     "metadata": {},
     "outputs": [],
     "prompt_number": 113
    },
    {
     "cell_type": "code",
     "collapsed": false,
     "input": [
      "coupons = [0.0655]\n",
      "notionals = [100.0, 100.0, 100.0, 80.0, 60.0, 40.0, 20.0]\n",
      "settles = 0\n",
      "schedule = Schedule(startDate, endDate, Period(1, Years), NullCalendar(), \n",
      "                    Following, Following, DateGeneration.Backward, False)\n",
      "accrual = ActualActual(ActualActual.ISMA)"
     ],
     "language": "python",
     "metadata": {},
     "outputs": [],
     "prompt_number": 114
    },
    {
     "cell_type": "code",
     "collapsed": false,
     "input": [
      "myBond = AmortizingFixedRateBond(settles, notionals, schedule, coupons, accrual)"
     ],
     "language": "python",
     "metadata": {},
     "outputs": [],
     "prompt_number": 115
    },
    {
     "cell_type": "code",
     "collapsed": false,
     "input": [
      "cfs = myBond.cashflows()"
     ],
     "language": "python",
     "metadata": {},
     "outputs": [],
     "prompt_number": 116
    },
    {
     "cell_type": "code",
     "collapsed": false,
     "input": [
      "for cf in cfs:\n",
      "    print cf.date(), \",\", cf.amount()"
     ],
     "language": "python",
     "metadata": {},
     "outputs": [
      {
       "output_type": "stream",
       "stream": "stdout",
       "text": [
        "December 25th, 2013 , 6.55\n",
        "December 25th, 2014 , 6.55\n",
        "December 25th, 2015 , 6.55\n",
        "December 25th, 2015 , 20.0\n",
        "December 26th, 2016 , 5.24\n",
        "December 26th, 2016 , 20.0\n",
        "December 25th, 2017 , 3.93\n",
        "December 25th, 2017 , 20.0\n",
        "December 25th, 2018 , 2.62\n",
        "December 25th, 2018 , 20.0\n",
        "December 25th, 2019 , 1.31\n",
        "December 25th, 2019 , 20.0\n"
       ]
      }
     ],
     "prompt_number": 117
    },
    {
     "cell_type": "code",
     "collapsed": false,
     "input": [
      "for s in schedule:\n",
      "    print s"
     ],
     "language": "python",
     "metadata": {},
     "outputs": [
      {
       "output_type": "stream",
       "stream": "stdout",
       "text": [
        "December 25th, 2012\n",
        "December 25th, 2013\n",
        "December 25th, 2014\n",
        "December 25th, 2015\n",
        "December 26th, 2016\n",
        "December 25th, 2017\n",
        "December 25th, 2018\n",
        "December 25th, 2019\n"
       ]
      }
     ],
     "prompt_number": 119
    },
    {
     "cell_type": "code",
     "collapsed": false,
     "input": [],
     "language": "python",
     "metadata": {},
     "outputs": [],
     "prompt_number": 119
    },
    {
     "cell_type": "code",
     "collapsed": false,
     "input": [],
     "language": "python",
     "metadata": {},
     "outputs": []
    }
   ],
   "metadata": {}
  }
 ]
}