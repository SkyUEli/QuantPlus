{
 "metadata": {
  "name": "",
  "signature": "sha256:8aad17b78b3568d5577575b998c331b643d48004f81a0f345cfe6b292b21a06a"
 },
 "nbformat": 3,
 "nbformat_minor": 0,
 "worksheets": [
  {
   "cells": [
    {
     "cell_type": "code",
     "collapsed": false,
     "input": [
      "import MySQLdb\n",
      "from CAL.PyCAL import *\n",
      "from CAL import *\n",
      "import pandas as pd\n",
      "import numpy as np\n",
      "import pandas.io.sql as psql\n",
      "import datetime as dt"
     ],
     "language": "python",
     "metadata": {},
     "outputs": [],
     "prompt_number": 1
    },
    {
     "cell_type": "code",
     "collapsed": false,
     "input": [
      "DB_USER = 'app_yield_ro'\n",
      "DB_PWD = 'c1UF2fQZ5FZ2rMPw'\n",
      "HOST = '10.20.111.101'\n",
      "DB_NAME = 'chinabond'"
     ],
     "language": "python",
     "metadata": {},
     "outputs": [],
     "prompt_number": 2
    },
    {
     "cell_type": "code",
     "collapsed": false,
     "input": [
      "conn = MySQLdb.connect(host=HOST,user=DB_USER,passwd=DB_PWD,db=DB_NAME, charset='utf8')"
     ],
     "language": "python",
     "metadata": {},
     "outputs": [],
     "prompt_number": 29
    },
    {
     "cell_type": "code",
     "collapsed": false,
     "input": [
      "sql = 'SELECT * FROM chinabond.cb_benchmark_composition'\n",
      "df = psql.frame_query(sql, con=conn) "
     ],
     "language": "python",
     "metadata": {},
     "outputs": [],
     "prompt_number": 30
    },
    {
     "cell_type": "code",
     "collapsed": false,
     "input": [
      "selecteDF = df[df['benchmark_name'] == u'\u4e2d\u503a-\u56fa\u5b9a\u5229\u7387\u56fd\u503a\u6307\u6570']"
     ],
     "language": "python",
     "metadata": {},
     "outputs": [],
     "prompt_number": 38
    },
    {
     "cell_type": "code",
     "collapsed": false,
     "input": [
      "selecteDF = selecteDF[selecteDF['valuation_type_desc'] == u'7-10\u5e74']"
     ],
     "language": "python",
     "metadata": {},
     "outputs": [],
     "prompt_number": 40
    },
    {
     "cell_type": "code",
     "collapsed": false,
     "input": [
      "selecteDF.update_dt"
     ],
     "language": "python",
     "metadata": {},
     "outputs": [
      {
       "metadata": {},
       "output_type": "pyout",
       "prompt_number": 41,
       "text": [
        "4486194   2014-04-14\n",
        "4486195   2014-04-14\n",
        "4486196   2014-04-14\n",
        "4486200   2014-04-14\n",
        "4486201   2014-04-14\n",
        "4486213   2014-04-14\n",
        "4486214   2014-04-14\n",
        "4486216   2014-04-14\n",
        "4486217   2014-04-14\n",
        "4486220   2014-04-14\n",
        "4486221   2014-04-14\n",
        "4486224   2014-04-14\n",
        "4486225   2014-04-14\n",
        "4486226   2014-04-14\n",
        "4486239   2014-04-14\n",
        "...\n",
        "5268964   2014-05-04\n",
        "5268975   2014-05-04\n",
        "5268976   2014-05-04\n",
        "5268977   2014-05-04\n",
        "5268985   2014-05-04\n",
        "5268986   2014-05-04\n",
        "5268987   2014-05-04\n",
        "5268988   2014-05-04\n",
        "5269005   2014-05-04\n",
        "5269006   2014-05-04\n",
        "5269007   2014-05-04\n",
        "5269008   2014-05-04\n",
        "5269036   2014-05-04\n",
        "5269037   2014-05-04\n",
        "5269038   2014-05-04\n",
        "Name: update_dt, Length: 651, dtype: datetime64[ns]"
       ]
      }
     ],
     "prompt_number": 41
    },
    {
     "cell_type": "code",
     "collapsed": false,
     "input": [],
     "language": "python",
     "metadata": {},
     "outputs": []
    }
   ],
   "metadata": {}
  }
 ]
}