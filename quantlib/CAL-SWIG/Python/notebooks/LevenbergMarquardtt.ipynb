{
 "metadata": {
  "name": ""
 },
 "nbformat": 3,
 "nbformat_minor": 0,
 "worksheets": [
  {
   "cells": [
    {
     "cell_type": "code",
     "collapsed": false,
     "input": [
      "import CAL"
     ],
     "language": "python",
     "metadata": {},
     "outputs": [],
     "prompt_number": 1
    },
    {
     "cell_type": "code",
     "collapsed": false,
     "input": [
      "# Initialize a Levenberg-Marquardt optimization method\n",
      "om = CAL.LevenbergMarquardt()"
     ],
     "language": "python",
     "metadata": {},
     "outputs": [],
     "prompt_number": 2
    },
    {
     "cell_type": "code",
     "collapsed": false,
     "input": [
      "# Define a very simple object function\n",
      "\n",
      "class objectFunction:\n",
      "    def values(self, *args):\n",
      "        sumList = (args[0] - 0.0,)\n",
      "        for i in xrange(1,10):\n",
      "            sumList = sumList + (args[i] - float(i),)\n",
      "        return sumList\n",
      "    \n",
      "    def __call__(self, *args):\n",
      "        sumList = (args[0] - 0.0)**2\n",
      "        for i in xrange(1,10):\n",
      "            sumList = sumList + (args[i] - float(i))**2\n",
      "        return sumList"
     ],
     "language": "python",
     "metadata": {},
     "outputs": [],
     "prompt_number": 3
    },
    {
     "cell_type": "code",
     "collapsed": false,
     "input": [
      "objFunc = objectFunction()"
     ],
     "language": "python",
     "metadata": {},
     "outputs": [],
     "prompt_number": 4
    },
    {
     "cell_type": "code",
     "collapsed": false,
     "input": [
      "objFunc.values(1,2,3,4,5,6,7,8,9,10)"
     ],
     "language": "python",
     "metadata": {},
     "outputs": [
      {
       "metadata": {},
       "output_type": "pyout",
       "prompt_number": 5,
       "text": [
        "(1.0, 1.0, 1.0, 1.0, 1.0, 1.0, 1.0, 1.0, 1.0, 1.0)"
       ]
      }
     ],
     "prompt_number": 5
    },
    {
     "cell_type": "code",
     "collapsed": false,
     "input": [
      "# Initialize a general optimizer engine\n",
      "optimizer = CAL.Optimizer()"
     ],
     "language": "python",
     "metadata": {},
     "outputs": [],
     "prompt_number": 6
    },
    {
     "cell_type": "code",
     "collapsed": false,
     "input": [
      "# Initialize parameters\n",
      "endCri = CAL.EndCriteria(50000, 500, 1e-8, 1e-8, 1e-8)\n",
      "constraint = CAL.NoConstraint()\n",
      "iv = CAL.Array(10,12)"
     ],
     "language": "python",
     "metadata": {},
     "outputs": [],
     "prompt_number": 7
    },
    {
     "cell_type": "code",
     "collapsed": false,
     "input": [
      "# Do the optimization\n",
      "solution = optimizer.solve(objFunc, constraint, om, endCri, iv)"
     ],
     "language": "python",
     "metadata": {},
     "outputs": [],
     "prompt_number": 8
    },
    {
     "cell_type": "code",
     "collapsed": false,
     "input": [
      "for i in xrange(10):\n",
      "    print solution[i]"
     ],
     "language": "python",
     "metadata": {},
     "outputs": [
      {
       "output_type": "stream",
       "stream": "stdout",
       "text": [
        "5.04063185775e-24\n",
        "1.0\n",
        "2.0\n",
        "3.0\n",
        "4.0\n",
        "5.0\n",
        "6.0\n",
        "7.0\n",
        "8.0\n",
        "9.0\n"
       ]
      }
     ],
     "prompt_number": 9
    },
    {
     "cell_type": "code",
     "collapsed": false,
     "input": [],
     "language": "python",
     "metadata": {},
     "outputs": []
    }
   ],
   "metadata": {}
  }
 ]
}