{
 "metadata": {
  "name": "",
  "signature": "sha256:2981153d52a2e1dfdb274f22ee1562bbfc3c4539bb546b17729ffa1fdd0b0802"
 },
 "nbformat": 3,
 "nbformat_minor": 0,
 "worksheets": [
  {
   "cells": [
    {
     "cell_type": "code",
     "collapsed": false,
     "input": [
      "import pandas as pd\n",
      "import numpy as np"
     ],
     "language": "python",
     "metadata": {},
     "outputs": [],
     "prompt_number": 17
    },
    {
     "cell_type": "code",
     "collapsed": false,
     "input": [
      "cd 11.04.2014/"
     ],
     "language": "python",
     "metadata": {},
     "outputs": [
      {
       "output_type": "stream",
       "stream": "stdout",
       "text": [
        "d:\\dev\\TP\\11.04.2014\n"
       ]
      }
     ],
     "prompt_number": 7
    },
    {
     "cell_type": "code",
     "collapsed": false,
     "input": [
      "df = pd.read_excel('STCMP.xlsx', 'OM_15A5')"
     ],
     "language": "python",
     "metadata": {},
     "outputs": [],
     "prompt_number": 22
    },
    {
     "cell_type": "code",
     "collapsed": false,
     "input": [
      "df['OFFCL_CODE']"
     ],
     "language": "python",
     "metadata": {},
     "outputs": [
      {
       "metadata": {},
       "output_type": "pyout",
       "prompt_number": 23,
       "text": [
        "0     NaN\n",
        "1     NaN\n",
        "2     NaN\n",
        "3     NaN\n",
        "4     NaN\n",
        "5     NaN\n",
        "6     NaN\n",
        "7     NaN\n",
        "8     NaN\n",
        "9     NaN\n",
        "10    NaN\n",
        "11    NaN\n",
        "12    NaN\n",
        "13    NaN\n",
        "14    NaN\n",
        "...\n",
        "67503        0\n",
        "67504        0\n",
        "67505      5.1\n",
        "67506     5.15\n",
        "67507    5.175\n",
        "67508        0\n",
        "67509        0\n",
        "67510        0\n",
        "67511        0\n",
        "67512        0\n",
        "67513        0\n",
        "67514        0\n",
        "67515        0\n",
        "67516        0\n",
        "67517        0\n",
        "Name: OFFCL_CODE, Length: 67518, dtype: object"
       ]
      }
     ],
     "prompt_number": 23
    },
    {
     "cell_type": "code",
     "collapsed": false,
     "input": [
      "res = df['OFFCL_CODE'][0]"
     ],
     "language": "python",
     "metadata": {},
     "outputs": [],
     "prompt_number": 25
    },
    {
     "cell_type": "raw",
     "metadata": {},
     "source": []
    }
   ],
   "metadata": {}
  }
 ]
}