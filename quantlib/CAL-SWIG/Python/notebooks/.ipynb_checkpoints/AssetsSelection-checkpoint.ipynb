{
 "metadata": {
  "name": "",
  "signature": "sha256:ddd80908e08ce8465c2b778a139ef2281b863f624de27073efc35a398271c1a6"
 },
 "nbformat": 3,
 "nbformat_minor": 0,
 "worksheets": [
  {
   "cells": [
    {
     "cell_type": "code",
     "collapsed": false,
     "input": [
      "import pandas as pd\n",
      "import numpy as np"
     ],
     "language": "python",
     "metadata": {},
     "outputs": [],
     "prompt_number": 226
    },
    {
     "cell_type": "code",
     "collapsed": false,
     "input": [
      "df = pd.read_csv(u'data.csv', encoding = 'gb2312')"
     ],
     "language": "python",
     "metadata": {},
     "outputs": [],
     "prompt_number": 227
    },
    {
     "cell_type": "code",
     "collapsed": false,
     "input": [
      "category = df.groupby(u'\u4e94\u7ea7\u5206\u7c7b')"
     ],
     "language": "python",
     "metadata": {},
     "outputs": [],
     "prompt_number": 228
    },
    {
     "cell_type": "code",
     "collapsed": false,
     "input": [
      "category.count()"
     ],
     "language": "python",
     "metadata": {},
     "outputs": [
      {
       "html": [
        "<div style=\"max-height:1000px;max-width:1500px;overflow:auto;\">\n",
        "<table border=\"1\" class=\"dataframe\">\n",
        "  <thead>\n",
        "    <tr style=\"text-align: right;\">\n",
        "      <th></th>\n",
        "      <th>   </th>\n",
        "      <th>\u501f\u6b3e\u4eba\u7f16\u53f7</th>\n",
        "      <th>\u5408\u540c\u53f7</th>\n",
        "      <th>\u8d37\u6b3e\u4ea7\u54c1\u540d\u79f0</th>\n",
        "      <th>\u653e\u6b3e\u65e5\u671f</th>\n",
        "      <th>\u5230\u671f\u65e5</th>\n",
        "      <th>\u8fd8\u6b3e\u65e5</th>\n",
        "      <th>\u603b\u671f\u6570</th>\n",
        "      <th>\u5df2\u8fd8\u671f\u6570</th>\n",
        "      <th>\u8fd8\u6b3e\u9891\u7387</th>\n",
        "      <th>\u622a\u81f3\u57fa\u51c6\u65e5\u5269\u4f59\u671f\u6570</th>\n",
        "      <th>\u57fa\u51c6\u5229\u7387</th>\n",
        "      <th>\u5229\u7387\u7c7b\u578b</th>\n",
        "      <th>\u8d37\u6b3e\u76ee\u524d\u5229\u7387</th>\n",
        "      <th>\u8d37\u6b3e\u521d\u59cb\u672c\u91d1</th>\n",
        "      <th>\u8d37\u6b3e\u73b0\u6709\u4f59\u989d</th>\n",
        "      <th>\u672c\u606f\u507f\u8fd8\u65b9\u5f0f</th>\n",
        "      <th>\u5df2\u507f\u8fd8\u672c\u91d1\u603b\u989d</th>\n",
        "      <th>\u4e94\u7ea7\u5206\u7c7b</th>\n",
        "      <th>\u66fe\u7ecf\u662f\u5426\u903e\u671f</th>\n",
        "      <th></th>\n",
        "    </tr>\n",
        "    <tr>\n",
        "      <th>\u4e94\u7ea7\u5206\u7c7b</th>\n",
        "      <th></th>\n",
        "      <th></th>\n",
        "      <th></th>\n",
        "      <th></th>\n",
        "      <th></th>\n",
        "      <th></th>\n",
        "      <th></th>\n",
        "      <th></th>\n",
        "      <th></th>\n",
        "      <th></th>\n",
        "      <th></th>\n",
        "      <th></th>\n",
        "      <th></th>\n",
        "      <th></th>\n",
        "      <th></th>\n",
        "      <th></th>\n",
        "      <th></th>\n",
        "      <th></th>\n",
        "      <th></th>\n",
        "      <th></th>\n",
        "    </tr>\n",
        "  </thead>\n",
        "  <tbody>\n",
        "    <tr>\n",
        "      <th>\u5173\u6ce8</th>\n",
        "      <td>   4579</td>\n",
        "      <td>  4579</td>\n",
        "      <td>   4579</td>\n",
        "      <td>   4577</td>\n",
        "      <td>   4579</td>\n",
        "      <td>   4577</td>\n",
        "      <td>   4579</td>\n",
        "      <td>   4579</td>\n",
        "      <td>   4579</td>\n",
        "      <td>   4579</td>\n",
        "      <td>   4579</td>\n",
        "      <td>   4579</td>\n",
        "      <td>   4577</td>\n",
        "      <td>   4579</td>\n",
        "      <td>   4579</td>\n",
        "      <td>   4579</td>\n",
        "      <td>   4579</td>\n",
        "      <td>   2829</td>\n",
        "      <td>   4579</td>\n",
        "      <td>   4579</td>\n",
        "      <td>...</td>\n",
        "    </tr>\n",
        "    <tr>\n",
        "      <th>\u53ef\u7591</th>\n",
        "      <td>   1159</td>\n",
        "      <td>  1159</td>\n",
        "      <td>   1159</td>\n",
        "      <td>   1159</td>\n",
        "      <td>   1159</td>\n",
        "      <td>   1159</td>\n",
        "      <td>   1159</td>\n",
        "      <td>   1159</td>\n",
        "      <td>   1159</td>\n",
        "      <td>   1159</td>\n",
        "      <td>   1159</td>\n",
        "      <td>   1159</td>\n",
        "      <td>   1159</td>\n",
        "      <td>   1159</td>\n",
        "      <td>   1159</td>\n",
        "      <td>   1159</td>\n",
        "      <td>   1159</td>\n",
        "      <td>    974</td>\n",
        "      <td>   1159</td>\n",
        "      <td>   1159</td>\n",
        "      <td>...</td>\n",
        "    </tr>\n",
        "    <tr>\n",
        "      <th>\u635f\u5931</th>\n",
        "      <td>    568</td>\n",
        "      <td>   568</td>\n",
        "      <td>    568</td>\n",
        "      <td>    568</td>\n",
        "      <td>    568</td>\n",
        "      <td>    568</td>\n",
        "      <td>    535</td>\n",
        "      <td>    568</td>\n",
        "      <td>    568</td>\n",
        "      <td>    568</td>\n",
        "      <td>    568</td>\n",
        "      <td>    568</td>\n",
        "      <td>    568</td>\n",
        "      <td>    568</td>\n",
        "      <td>    568</td>\n",
        "      <td>    568</td>\n",
        "      <td>    568</td>\n",
        "      <td>    390</td>\n",
        "      <td>    568</td>\n",
        "      <td>    568</td>\n",
        "      <td>...</td>\n",
        "    </tr>\n",
        "    <tr>\n",
        "      <th>\u6b21\u7ea7</th>\n",
        "      <td>   3592</td>\n",
        "      <td>  3592</td>\n",
        "      <td>   3592</td>\n",
        "      <td>   3592</td>\n",
        "      <td>   3592</td>\n",
        "      <td>   3592</td>\n",
        "      <td>   3592</td>\n",
        "      <td>   3592</td>\n",
        "      <td>   3592</td>\n",
        "      <td>   3592</td>\n",
        "      <td>   3592</td>\n",
        "      <td>   3592</td>\n",
        "      <td>   3592</td>\n",
        "      <td>   3592</td>\n",
        "      <td>   3592</td>\n",
        "      <td>   3592</td>\n",
        "      <td>   3592</td>\n",
        "      <td>   2699</td>\n",
        "      <td>   3592</td>\n",
        "      <td>   3592</td>\n",
        "      <td>...</td>\n",
        "    </tr>\n",
        "    <tr>\n",
        "      <th>\u6b63\u5e38</th>\n",
        "      <td> 143137</td>\n",
        "      <td> 26496</td>\n",
        "      <td> 143137</td>\n",
        "      <td> 143081</td>\n",
        "      <td> 143137</td>\n",
        "      <td> 143081</td>\n",
        "      <td> 121635</td>\n",
        "      <td> 143137</td>\n",
        "      <td> 143137</td>\n",
        "      <td> 143137</td>\n",
        "      <td> 143137</td>\n",
        "      <td> 143137</td>\n",
        "      <td> 143081</td>\n",
        "      <td> 143137</td>\n",
        "      <td> 143137</td>\n",
        "      <td> 143137</td>\n",
        "      <td> 143137</td>\n",
        "      <td> 130936</td>\n",
        "      <td> 143137</td>\n",
        "      <td> 143137</td>\n",
        "      <td>...</td>\n",
        "    </tr>\n",
        "  </tbody>\n",
        "</table>\n",
        "<p>5 rows \u00d7 45 columns</p>\n",
        "</div>"
       ],
       "metadata": {},
       "output_type": "pyout",
       "prompt_number": 229,
       "text": [
        "              \u501f\u6b3e\u4eba\u7f16\u53f7     \u5408\u540c\u53f7  \u8d37\u6b3e\u4ea7\u54c1\u540d\u79f0    \u653e\u6b3e\u65e5\u671f     \u5230\u671f\u65e5     \u8fd8\u6b3e\u65e5     \u603b\u671f\u6570    \u5df2\u8fd8\u671f\u6570  \\\n",
        "\u4e94\u7ea7\u5206\u7c7b                                                                          \n",
        "\u5173\u6ce8      4579   4579    4579    4577    4579    4577    4579    4579    4579   \n",
        "\u53ef\u7591      1159   1159    1159    1159    1159    1159    1159    1159    1159   \n",
        "\u635f\u5931       568    568     568     568     568     568     535     568     568   \n",
        "\u6b21\u7ea7      3592   3592    3592    3592    3592    3592    3592    3592    3592   \n",
        "\u6b63\u5e38    143137  26496  143137  143081  143137  143081  121635  143137  143137   \n",
        "\n",
        "        \u8fd8\u6b3e\u9891\u7387  \u622a\u81f3\u57fa\u51c6\u65e5\u5269\u4f59\u671f\u6570    \u57fa\u51c6\u5229\u7387    \u5229\u7387\u7c7b\u578b  \u8d37\u6b3e\u76ee\u524d\u5229\u7387  \u8d37\u6b3e\u521d\u59cb\u672c\u91d1  \u8d37\u6b3e\u73b0\u6709\u4f59\u989d  \u672c\u606f\u507f\u8fd8\u65b9\u5f0f  \\\n",
        "\u4e94\u7ea7\u5206\u7c7b                                                                      \n",
        "\u5173\u6ce8      4579       4579    4579    4577    4579    4579    4579    4579   \n",
        "\u53ef\u7591      1159       1159    1159    1159    1159    1159    1159    1159   \n",
        "\u635f\u5931       568        568     568     568     568     568     568     568   \n",
        "\u6b21\u7ea7      3592       3592    3592    3592    3592    3592    3592    3592   \n",
        "\u6b63\u5e38    143137     143137  143137  143081  143137  143137  143137  143137   \n",
        "\n",
        "      \u5df2\u507f\u8fd8\u672c\u91d1\u603b\u989d    \u4e94\u7ea7\u5206\u7c7b  \u66fe\u7ecf\u662f\u5426\u903e\u671f      \n",
        "\u4e94\u7ea7\u5206\u7c7b                               \n",
        "\u5173\u6ce8       2829    4579    4579 ...  \n",
        "\u53ef\u7591        974    1159    1159 ...  \n",
        "\u635f\u5931        390     568     568 ...  \n",
        "\u6b21\u7ea7       2699    3592    3592 ...  \n",
        "\u6b63\u5e38     130936  143137  143137 ...  \n",
        "\n",
        "[5 rows x 45 columns]"
       ]
      }
     ],
     "prompt_number": 229
    },
    {
     "cell_type": "code",
     "collapsed": false,
     "input": [
      "df.columns"
     ],
     "language": "python",
     "metadata": {},
     "outputs": [
      {
       "metadata": {},
       "output_type": "pyout",
       "prompt_number": 230,
       "text": [
        "Index([u'   ', u'\u501f\u6b3e\u4eba\u7f16\u53f7', u'\u5408\u540c\u53f7', u'\u8d37\u6b3e\u4ea7\u54c1\u540d\u79f0', u'\u653e\u6b3e\u65e5\u671f', u'\u5230\u671f\u65e5', u'\u8fd8\u6b3e\u65e5', u'\u603b\u671f\u6570', u'\u5df2\u8fd8\u671f\u6570', u'\u8fd8\u6b3e\u9891\u7387', u'\u622a\u81f3\u57fa\u51c6\u65e5\u5269\u4f59\u671f\u6570', u'\u57fa\u51c6\u5229\u7387', u'\u5229\u7387\u7c7b\u578b', u'\u8d37\u6b3e\u76ee\u524d\u5229\u7387', u'\u8d37\u6b3e\u521d\u59cb\u672c\u91d1', u'\u8d37\u6b3e\u73b0\u6709\u4f59\u989d', u'\u672c\u606f\u507f\u8fd8\u65b9\u5f0f', u'\u5df2\u507f\u8fd8\u672c\u91d1\u603b\u989d', u'\u4e94\u7ea7\u5206\u7c7b', u'\u66fe\u7ecf\u662f\u5426\u903e\u671f', u'\u903e\u671f\u540e\u671f\u6570', u'\u903e\u671f\u672a\u671f\u6570', u'\u903e\u671f\u5929\u6570', u'\u903e\u671f\u91d1\u989d', u'\u56fd\u7c4d', u'\u6027\u522b', u'\u51fa\u751f\u65e5\u671f', u'\u5e74\u9f84', u'\u5a5a\u59fb\u72b6\u51b5', u'\u804c\u4e1a', u'\u5e74\u6536\u5165', u'\u6240\u5728\u5730\u533a', u'\u5185\u90e8\u4fe1\u7528\u8bc4\u5206', u'\u5386\u53f2\u4fe1\u7528\u8bb0\u5f55', u'\u8d37\u6b3e\u5269\u4f59\u671f\u9650\u4e0e\u5e74\u9f84\u4e4b\u548c', u'\u903e\u671f\u5229\u7387', u'\u5f53\u524d\u8fde\u7eed\u62d6\u6b20\u672c\u91d1', u'\u5f53\u524d\u8fde\u7eed\u62d6\u6b20\u5229\u606f\u989d', u'\u5f53\u524d\u8fde\u7eed\u62d6\u6b20\u7f5a\u606f\u989d', u'\u7d2f\u8ba1\u62d6\u6b20\u671f\u6570', u'\u5f53\u524d\u7d2f\u8ba1\u62d6\u6b20\u672c\u91d1\u989d', u'\u5f53\u524d\u7d2f\u8ba1\u62d6\u6b20\u5229\u606f\u989d', u'\u5f53\u524d\u7d2f\u8ba1\u62d6\u6b20\u7f5a\u606f\u989d', u'\u4e13\u6848\u540d\u79f0', u'\u63a8\u5e7f\u90e8\u95e8'], dtype='object')"
       ]
      }
     ],
     "prompt_number": 230
    },
    {
     "cell_type": "code",
     "collapsed": false,
     "input": [
      "selectedDF = df[[u'\u603b\u671f\u6570', u'\u5df2\u8fd8\u671f\u6570', u'\u622a\u81f3\u57fa\u51c6\u65e5\u5269\u4f59\u671f\u6570', u'\u57fa\u51c6\u5229\u7387', u'\u8d37\u6b3e\u76ee\u524d\u5229\u7387', \n",
      "                 u'\u8d37\u6b3e\u521d\u59cb\u672c\u91d1', u'\u8d37\u6b3e\u73b0\u6709\u4f59\u989d', u'\u5df2\u507f\u8fd8\u672c\u91d1\u603b\u989d', u'\u4e94\u7ea7\u5206\u7c7b', \n",
      "                 u'\u6027\u522b', u'\u5e74\u9f84', u'\u5a5a\u59fb\u72b6\u51b5', u'\u804c\u4e1a', u'\u5e74\u6536\u5165', u'\u8d37\u6b3e\u5269\u4f59\u671f\u9650\u4e0e\u5e74\u9f84\u4e4b\u548c']]"
     ],
     "language": "python",
     "metadata": {},
     "outputs": [],
     "prompt_number": 231
    },
    {
     "cell_type": "code",
     "collapsed": false,
     "input": [
      "nonaDF = selectedDF.dropna()\n",
      "nonaDF = nonaDF[nonaDF[u'\u5a5a\u59fb\u72b6\u51b5'] != u'\u5176\u4ed6']"
     ],
     "language": "python",
     "metadata": {},
     "outputs": [],
     "prompt_number": 232
    },
    {
     "cell_type": "code",
     "collapsed": false,
     "input": [
      "len(nonaDF)"
     ],
     "language": "python",
     "metadata": {},
     "outputs": [
      {
       "metadata": {},
       "output_type": "pyout",
       "prompt_number": 233,
       "text": [
        "119121"
       ]
      }
     ],
     "prompt_number": 233
    },
    {
     "cell_type": "code",
     "collapsed": false,
     "input": [
      "nonaDF[:1]"
     ],
     "language": "python",
     "metadata": {},
     "outputs": [
      {
       "html": [
        "<div style=\"max-height:1000px;max-width:1500px;overflow:auto;\">\n",
        "<table border=\"1\" class=\"dataframe\">\n",
        "  <thead>\n",
        "    <tr style=\"text-align: right;\">\n",
        "      <th></th>\n",
        "      <th>\u603b\u671f\u6570</th>\n",
        "      <th>\u5df2\u8fd8\u671f\u6570</th>\n",
        "      <th>\u622a\u81f3\u57fa\u51c6\u65e5\u5269\u4f59\u671f\u6570</th>\n",
        "      <th>\u57fa\u51c6\u5229\u7387</th>\n",
        "      <th>\u8d37\u6b3e\u76ee\u524d\u5229\u7387</th>\n",
        "      <th>\u8d37\u6b3e\u521d\u59cb\u672c\u91d1</th>\n",
        "      <th>\u8d37\u6b3e\u73b0\u6709\u4f59\u989d</th>\n",
        "      <th>\u5df2\u507f\u8fd8\u672c\u91d1\u603b\u989d</th>\n",
        "      <th>\u4e94\u7ea7\u5206\u7c7b</th>\n",
        "      <th>\u6027\u522b</th>\n",
        "      <th>\u5e74\u9f84</th>\n",
        "      <th>\u5a5a\u59fb\u72b6\u51b5</th>\n",
        "      <th>\u804c\u4e1a</th>\n",
        "      <th>\u5e74\u6536\u5165</th>\n",
        "      <th>\u8d37\u6b3e\u5269\u4f59\u671f\u9650\u4e0e\u5e74\u9f84\u4e4b\u548c</th>\n",
        "    </tr>\n",
        "  </thead>\n",
        "  <tbody>\n",
        "    <tr>\n",
        "      <th>1</th>\n",
        "      <td> 12</td>\n",
        "      <td> 12</td>\n",
        "      <td> 0</td>\n",
        "      <td> 0.0531</td>\n",
        "      <td> 0.08</td>\n",
        "      <td> 300000</td>\n",
        "      <td> 0</td>\n",
        "      <td> 300000</td>\n",
        "      <td> \u6b63\u5e38</td>\n",
        "      <td> \u7537</td>\n",
        "      <td> 1962</td>\n",
        "      <td> \u5df2\u5a5a</td>\n",
        "      <td> \u4e2d\u5c0f\u578b\u4f01\u4e1a\uff0c\u6709\u56fa\u5b9a\u804c\u4e1a</td>\n",
        "      <td> 960000</td>\n",
        "      <td> 48</td>\n",
        "    </tr>\n",
        "  </tbody>\n",
        "</table>\n",
        "<p>1 rows \u00d7 15 columns</p>\n",
        "</div>"
       ],
       "metadata": {},
       "output_type": "pyout",
       "prompt_number": 234,
       "text": [
        "   \u603b\u671f\u6570  \u5df2\u8fd8\u671f\u6570  \u622a\u81f3\u57fa\u51c6\u65e5\u5269\u4f59\u671f\u6570    \u57fa\u51c6\u5229\u7387  \u8d37\u6b3e\u76ee\u524d\u5229\u7387  \u8d37\u6b3e\u521d\u59cb\u672c\u91d1  \u8d37\u6b3e\u73b0\u6709\u4f59\u989d  \u5df2\u507f\u8fd8\u672c\u91d1\u603b\u989d \u4e94\u7ea7\u5206\u7c7b \u6027\u522b  \\\n",
        "1   12    12          0  0.0531    0.08  300000       0   300000   \u6b63\u5e38  \u7537   \n",
        "\n",
        "     \u5e74\u9f84 \u5a5a\u59fb\u72b6\u51b5           \u804c\u4e1a     \u5e74\u6536\u5165  \u8d37\u6b3e\u5269\u4f59\u671f\u9650\u4e0e\u5e74\u9f84\u4e4b\u548c  \n",
        "1  1962   \u5df2\u5a5a  \u4e2d\u5c0f\u578b\u4f01\u4e1a\uff0c\u6709\u56fa\u5b9a\u804c\u4e1a  960000           48  \n",
        "\n",
        "[1 rows x 15 columns]"
       ]
      }
     ],
     "prompt_number": 234
    },
    {
     "cell_type": "code",
     "collapsed": false,
     "input": [
      "# Map \u5206\u7c7b\u4f53\u7cfb\n",
      "def func(x):\n",
      "    if x == u'\u6b63\u5e38':\n",
      "        return 1\n",
      "    else:\n",
      "        return 0"
     ],
     "language": "python",
     "metadata": {},
     "outputs": [],
     "prompt_number": 235
    },
    {
     "cell_type": "code",
     "collapsed": false,
     "input": [
      "nonaDF[u'\u4e94\u7ea7\u5206\u7c7b'] = nonaDF[u'\u4e94\u7ea7\u5206\u7c7b'].map(func)"
     ],
     "language": "python",
     "metadata": {},
     "outputs": [],
     "prompt_number": 236
    },
    {
     "cell_type": "code",
     "collapsed": false,
     "input": [
      "# Map \u6027\u522b\n",
      "def func(x):\n",
      "    if x == u'\u5973':\n",
      "        return 1\n",
      "    else:\n",
      "        return 0"
     ],
     "language": "python",
     "metadata": {},
     "outputs": [],
     "prompt_number": 237
    },
    {
     "cell_type": "code",
     "collapsed": false,
     "input": [
      "nonaDF[u'\u6027\u522b'] = nonaDF[u'\u6027\u522b'].map(func)"
     ],
     "language": "python",
     "metadata": {},
     "outputs": [],
     "prompt_number": 238
    },
    {
     "cell_type": "code",
     "collapsed": false,
     "input": [
      "# Map \u5a5a\u59fb\n",
      "def func(x):\n",
      "    if x == u'\u5df2\u5a5a':\n",
      "        return 1\n",
      "    else:\n",
      "        return 0"
     ],
     "language": "python",
     "metadata": {},
     "outputs": [],
     "prompt_number": 239
    },
    {
     "cell_type": "code",
     "collapsed": false,
     "input": [
      "nonaDF[u'\u5a5a\u59fb\u72b6\u51b5'] = nonaDF[u'\u5a5a\u59fb\u72b6\u51b5'].map(func)"
     ],
     "language": "python",
     "metadata": {},
     "outputs": [],
     "prompt_number": 240
    },
    {
     "cell_type": "code",
     "collapsed": false,
     "input": [
      "nonaDF = nonaDF[[u'\u603b\u671f\u6570', u'\u5df2\u8fd8\u671f\u6570', u'\u57fa\u51c6\u5229\u7387', u'\u8d37\u6b3e\u76ee\u524d\u5229\u7387', u'\u8d37\u6b3e\u521d\u59cb\u672c\u91d1', u'\u8d37\u6b3e\u73b0\u6709\u4f59\u989d', u'\u5df2\u507f\u8fd8\u672c\u91d1\u603b\u989d', u'\u4e94\u7ea7\u5206\u7c7b', \n",
      "          u'\u6027\u522b', u'\u5e74\u9f84', u'\u5a5a\u59fb\u72b6\u51b5', u'\u804c\u4e1a', u'\u5e74\u6536\u5165', u'\u8d37\u6b3e\u5269\u4f59\u671f\u9650\u4e0e\u5e74\u9f84\u4e4b\u548c']]"
     ],
     "language": "python",
     "metadata": {},
     "outputs": [],
     "prompt_number": 241
    },
    {
     "cell_type": "code",
     "collapsed": false,
     "input": [
      "from sklearn.feature_selection import RFE\n",
      "from sklearn.linear_model import LogisticRegression\n",
      "from sklearn import preprocessing"
     ],
     "language": "python",
     "metadata": {},
     "outputs": [],
     "prompt_number": 242
    },
    {
     "cell_type": "code",
     "collapsed": false,
     "input": [
      "Y = nonaDF[u'\u4e94\u7ea7\u5206\u7c7b'].values\n",
      "X = nonaDF[[u'\u603b\u671f\u6570', u'\u5df2\u8fd8\u671f\u6570', u'\u8d37\u6b3e\u76ee\u524d\u5229\u7387', u'\u8d37\u6b3e\u73b0\u6709\u4f59\u989d',  u'\u6027\u522b', u'\u5a5a\u59fb\u72b6\u51b5', u'\u5e74\u6536\u5165', u'\u8d37\u6b3e\u5269\u4f59\u671f\u9650\u4e0e\u5e74\u9f84\u4e4b\u548c']].values\n",
      "X_scaled = preprocessing.scale(X)"
     ],
     "language": "python",
     "metadata": {},
     "outputs": [],
     "prompt_number": 338
    },
    {
     "cell_type": "code",
     "collapsed": false,
     "input": [
      "estimator = LogisticRegression('l2', False)"
     ],
     "language": "python",
     "metadata": {},
     "outputs": [],
     "prompt_number": 339
    },
    {
     "cell_type": "code",
     "collapsed": false,
     "input": [
      "selector = RFE(estimator)"
     ],
     "language": "python",
     "metadata": {},
     "outputs": [],
     "prompt_number": 340
    },
    {
     "cell_type": "code",
     "collapsed": false,
     "input": [
      "selector = selector.fit(X_scaled,Y)"
     ],
     "language": "python",
     "metadata": {},
     "outputs": [],
     "prompt_number": 341
    },
    {
     "cell_type": "code",
     "collapsed": false,
     "input": [
      "selector.support_"
     ],
     "language": "python",
     "metadata": {},
     "outputs": [
      {
       "metadata": {},
       "output_type": "pyout",
       "prompt_number": 342,
       "text": [
        "array([ True,  True,  True, False, False, False,  True, False], dtype=bool)"
       ]
      }
     ],
     "prompt_number": 342
    },
    {
     "cell_type": "code",
     "collapsed": false,
     "input": [
      "selector.score(X_scaled,Y)"
     ],
     "language": "python",
     "metadata": {},
     "outputs": [
      {
       "metadata": {},
       "output_type": "pyout",
       "prompt_number": 343,
       "text": [
        "0.95993149822449442"
       ]
      }
     ],
     "prompt_number": 343
    },
    {
     "cell_type": "code",
     "collapsed": false,
     "input": [
      "estimator = estimator.fit(X_scaled,Y)"
     ],
     "language": "python",
     "metadata": {},
     "outputs": [],
     "prompt_number": 344
    },
    {
     "cell_type": "code",
     "collapsed": false,
     "input": [
      "estimator.coef_"
     ],
     "language": "python",
     "metadata": {},
     "outputs": [
      {
       "metadata": {},
       "output_type": "pyout",
       "prompt_number": 345,
       "text": [
        "array([[-0.69792111,  0.46488101, -0.52205888,  0.25998591,  0.23650472,\n",
        "         0.21163816,  0.41006327,  0.08584909]])"
       ]
      }
     ],
     "prompt_number": 345
    },
    {
     "cell_type": "code",
     "collapsed": false,
     "input": [
      "ret = estimator.predict_proba(X_scaled)"
     ],
     "language": "python",
     "metadata": {},
     "outputs": [],
     "prompt_number": 346
    },
    {
     "cell_type": "code",
     "collapsed": false,
     "input": [
      "ret"
     ],
     "language": "python",
     "metadata": {},
     "outputs": [
      {
       "metadata": {},
       "output_type": "pyout",
       "prompt_number": 347,
       "text": [
        "array([[ 0.01263328,  0.98736672],\n",
        "       [ 0.02365883,  0.97634117],\n",
        "       [ 0.01044568,  0.98955432],\n",
        "       ..., \n",
        "       [ 0.03753047,  0.96246953],\n",
        "       [ 0.03601057,  0.96398943],\n",
        "       [ 0.0373888 ,  0.9626112 ]])"
       ]
      }
     ],
     "prompt_number": 347
    },
    {
     "cell_type": "code",
     "collapsed": false,
     "input": [
      "per = np.percentile(ret[:,0], 0.051233619596880484)"
     ],
     "language": "python",
     "metadata": {},
     "outputs": [],
     "prompt_number": 358
    },
    {
     "cell_type": "code",
     "collapsed": false,
     "input": [
      "def func(x):\n",
      "    if x >= per:\n",
      "        return 1\n",
      "    else:\n",
      "        return 0"
     ],
     "language": "python",
     "metadata": {},
     "outputs": [],
     "prompt_number": 364
    },
    {
     "cell_type": "code",
     "collapsed": false,
     "input": [
      "myfunc = np.frompyfunc(func, 1, 1)"
     ],
     "language": "python",
     "metadata": {},
     "outputs": [],
     "prompt_number": 365
    },
    {
     "cell_type": "code",
     "collapsed": false,
     "input": [
      "retNew = myfunc(ret[:,0])"
     ],
     "language": "python",
     "metadata": {},
     "outputs": [],
     "prompt_number": 366
    },
    {
     "cell_type": "code",
     "collapsed": false,
     "input": [
      "newDF = pd.DataFrame({'Y':Y, 'PredictY':retNew})"
     ],
     "language": "python",
     "metadata": {},
     "outputs": [],
     "prompt_number": 373
    },
    {
     "cell_type": "code",
     "collapsed": false,
     "input": [
      "newDF.to_excel(u'comparing.xlsx')"
     ],
     "language": "python",
     "metadata": {},
     "outputs": [],
     "prompt_number": 374
    },
    {
     "cell_type": "code",
     "collapsed": false,
     "input": [],
     "language": "python",
     "metadata": {},
     "outputs": []
    }
   ],
   "metadata": {}
  }
 ]
}