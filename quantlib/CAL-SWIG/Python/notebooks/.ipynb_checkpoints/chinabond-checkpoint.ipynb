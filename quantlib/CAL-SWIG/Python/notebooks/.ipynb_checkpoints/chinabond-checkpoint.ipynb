{
 "metadata": {
  "name": "",
  "signature": "sha256:7af023d211f485c4d4ff6cb9887bfc06135c5656e34fd612cefac1c8b88efd90"
 },
 "nbformat": 3,
 "nbformat_minor": 0,
 "worksheets": [
  {
   "cells": [
    {
     "cell_type": "markdown",
     "metadata": {},
     "source": [
      "#1 \u4eceMySQL\u4e2d\u83b7\u53d6\u6536\u76ca\u7387\u66f2\u7ebf\u6570\u636e\uff082014-03-14\uff09"
     ]
    },
    {
     "cell_type": "code",
     "collapsed": false,
     "input": [
      "import MySQLdb\n",
      "from CAL.PyCAL import *\n",
      "from CAL import *\n",
      "import pandas as pd\n",
      "import numpy as np\n",
      "import pandas.io.sql as psql\n",
      "import datetime as dt"
     ],
     "language": "python",
     "metadata": {},
     "outputs": [],
     "prompt_number": 1
    },
    {
     "cell_type": "code",
     "collapsed": false,
     "input": [
      "DB_USER = 'app_yield_ro'\n",
      "DB_PWD = 'c1UF2fQZ5FZ2rMPw'\n",
      "HOST = '10.20.111.101'\n",
      "DB_NAME = 'chinabond'"
     ],
     "language": "python",
     "metadata": {},
     "outputs": [],
     "prompt_number": 2
    },
    {
     "cell_type": "code",
     "collapsed": false,
     "input": [
      "conn = MySQLdb.connect(host=HOST,user=DB_USER,passwd=DB_PWD,db=DB_NAME, charset='utf8')"
     ],
     "language": "python",
     "metadata": {},
     "outputs": [],
     "prompt_number": 3
    },
    {
     "cell_type": "code",
     "collapsed": false,
     "input": [
      "sql = 'SELECT * FROM chinabond.cb_ytm_yield_curve'\n",
      "df = psql.frame_query(sql, con=conn) "
     ],
     "language": "python",
     "metadata": {},
     "outputs": [],
     "prompt_number": 4
    },
    {
     "cell_type": "code",
     "collapsed": false,
     "input": [
      "res = df[df['curve_name']==u'\u94f6\u884c\u95f4\u56fa\u5b9a\u5229\u7387\u56fd\u503a\u6536\u76ca\u7387\u66f2\u7ebf']"
     ],
     "language": "python",
     "metadata": {},
     "outputs": [],
     "prompt_number": 25
    },
    {
     "cell_type": "code",
     "collapsed": false,
     "input": [
      "res = res[res['data_dt'] == dt.date(2014,3,14)]"
     ],
     "language": "python",
     "metadata": {},
     "outputs": [],
     "prompt_number": 26
    },
    {
     "cell_type": "code",
     "collapsed": false,
     "input": [
      "res.sort(columns = ['tenor'], inplace=True)"
     ],
     "language": "python",
     "metadata": {},
     "outputs": [],
     "prompt_number": 27
    },
    {
     "cell_type": "code",
     "collapsed": false,
     "input": [
      "res = res[np.any([(res['curve_type'] == u'\u5230\u671f').values,(res['curve_type'] == u'\u5373\u671f').values],0)]"
     ],
     "language": "python",
     "metadata": {},
     "outputs": [],
     "prompt_number": 28
    },
    {
     "cell_type": "code",
     "collapsed": false,
     "input": [
      "res.sort(columns = ['tenor'], inplace=True)"
     ],
     "language": "python",
     "metadata": {},
     "outputs": [],
     "prompt_number": 29
    },
    {
     "cell_type": "code",
     "collapsed": false,
     "input": [
      "parCurve = res[res['curve_type'] == u'\u5230\u671f']"
     ],
     "language": "python",
     "metadata": {},
     "outputs": [],
     "prompt_number": 10
    },
    {
     "cell_type": "markdown",
     "metadata": {},
     "source": [
      "#2 \u6821\u6b63\u4e2d\u56fd\u94f6\u884c\u95f4\u56fa\u5b9a\u5229\u7387\u56fd\u503a\u6536\u76ca\u7387\u66f2\u7ebf"
     ]
    },
    {
     "cell_type": "code",
     "collapsed": false,
     "input": [
      "from CAL import *"
     ],
     "language": "python",
     "metadata": {},
     "outputs": [],
     "prompt_number": 31
    },
    {
     "cell_type": "code",
     "collapsed": false,
     "input": [
      "# Curve reference date\n",
      "referenceDate = Date(14, 3, 2014)\n",
      "Settings.instance().setEvaluationDate(referenceDate)\n",
      "dc = ActualActualNoLeap()"
     ],
     "language": "python",
     "metadata": {},
     "outputs": [
      {
       "output_type": "stream",
       "stream": "stdout",
       "text": [
        "\n"
       ]
      }
     ],
     "prompt_number": 43
    },
    {
     "cell_type": "code",
     "collapsed": false,
     "input": [
      "# Index for fixing\n",
      "curveHandle = RelinkableYieldTermStructureHandle()\n",
      "iborIndex = IborIndex('tmp', Period(1, Years), 1, CNYCurrency(), China(), Unadjusted, False, dc, curveHandle)"
     ],
     "language": "python",
     "metadata": {},
     "outputs": [],
     "prompt_number": 44
    },
    {
     "cell_type": "code",
     "collapsed": false,
     "input": [
      "# Desposit instruments\n",
      "tenors = ['1m', '2m', '3m', '6m', '9m', '1Y']\n",
      "rates = (parCurve[parCurve['tenor'] <=1.0]['yield_spread'].values / 100.0)[1:]"
     ],
     "language": "python",
     "metadata": {},
     "outputs": [],
     "prompt_number": 45
    },
    {
     "cell_type": "code",
     "collapsed": false,
     "input": [
      "depositHelpers = []\n",
      "for tenor, rate in zip(tenors, rates):\n",
      "    quote = SimpleQuote(rate)\n",
      "    deposit = DepositRateHelper(QuoteHandle(quote), PeriodParser.parse(tenor), 0, NullCalendar(), Unadjusted, False, dc)\n",
      "    depositHelpers.append(deposit)"
     ],
     "language": "python",
     "metadata": {},
     "outputs": [],
     "prompt_number": 46
    },
    {
     "cell_type": "code",
     "collapsed": false,
     "input": [
      "# Par swap instruments\n",
      "tenors = ['2y','3y', '4y', '5y', '6y', '7y', '8y', '9y', '10y', '15y', '20y', '30y', '40y', '50y']\n",
      "rates = parCurve[parCurve['tenor'] >1.0]['yield_spread'].values / 100.0"
     ],
     "language": "python",
     "metadata": {},
     "outputs": [],
     "prompt_number": 47
    },
    {
     "cell_type": "code",
     "collapsed": false,
     "input": [
      "swapHelpers  = []\n",
      "for tenor, rate in zip(tenors, rates):\n",
      "    quote =SimpleQuote(rate)\n",
      "    swap = SwapRateHelper(QuoteHandle(quote), PeriodParser.parse(tenor), NullCalendar(), Annual, Unadjusted, dc, iborIndex)\n",
      "    swapHelpers.append(swap)"
     ],
     "language": "python",
     "metadata": {},
     "outputs": [],
     "prompt_number": 48
    },
    {
     "cell_type": "code",
     "collapsed": false,
     "input": [
      "rateInstruments = depositHelpers + swapHelpers\n",
      "periods = ['1m', '2m', '3m', '6m', '9m', '1Y', '2y','3y', '4y', '5y', '6y', '7y', '8y', '9y', '10y', '15y', '20y', '30y', '40y', '50y']"
     ],
     "language": "python",
     "metadata": {},
     "outputs": [],
     "prompt_number": 49
    },
    {
     "cell_type": "code",
     "collapsed": false,
     "input": [
      "myCurve = PiecewiseCubicDiscount(referenceDate, rateInstruments, dc)"
     ],
     "language": "python",
     "metadata": {},
     "outputs": [],
     "prompt_number": 50
    },
    {
     "cell_type": "code",
     "collapsed": false,
     "input": [
      "calucaltedRates = []\n",
      "for period in periods:\n",
      "    calPeriod = PeriodParser.parse(period)\n",
      "    futureDate = referenceDate + calPeriod\n",
      "    print calPeriod, myCurve.zeroRate(futureDate, dc, SimpleThenCompounded)\n",
      "    calucaltedRates.append(myCurve.zeroRate(futureDate, dc, SimpleThenCompounded).rate()*100)"
     ],
     "language": "python",
     "metadata": {},
     "outputs": [
      {
       "output_type": "stream",
       "stream": "stdout",
       "text": [
        "1M"
       ]
      },
      {
       "ename": "RuntimeError",
       "evalue": "1st iteration: failed at 20th alive instrument, maturity March 15th, 2064, reference date March 14th, 2014: 2nd leg: time (50.0833) is past max curve time (50)",
       "output_type": "pyerr",
       "traceback": [
        "\u001b[1;31m---------------------------------------------------------------------------\u001b[0m\n\u001b[1;31mRuntimeError\u001b[0m                              Traceback (most recent call last)",
        "\u001b[1;32m<ipython-input-42-bf937725b3b2>\u001b[0m in \u001b[0;36m<module>\u001b[1;34m()\u001b[0m\n\u001b[0;32m      3\u001b[0m     \u001b[0mcalPeriod\u001b[0m \u001b[1;33m=\u001b[0m \u001b[0mPeriodParser\u001b[0m\u001b[1;33m.\u001b[0m\u001b[0mparse\u001b[0m\u001b[1;33m(\u001b[0m\u001b[0mperiod\u001b[0m\u001b[1;33m)\u001b[0m\u001b[1;33m\u001b[0m\u001b[0m\n\u001b[0;32m      4\u001b[0m     \u001b[0mfutureDate\u001b[0m \u001b[1;33m=\u001b[0m \u001b[0mreferenceDate\u001b[0m \u001b[1;33m+\u001b[0m \u001b[0mcalPeriod\u001b[0m\u001b[1;33m\u001b[0m\u001b[0m\n\u001b[1;32m----> 5\u001b[1;33m     \u001b[1;32mprint\u001b[0m \u001b[0mcalPeriod\u001b[0m\u001b[1;33m,\u001b[0m \u001b[0mmyCurve\u001b[0m\u001b[1;33m.\u001b[0m\u001b[0mzeroRate\u001b[0m\u001b[1;33m(\u001b[0m\u001b[0mfutureDate\u001b[0m\u001b[1;33m,\u001b[0m \u001b[0mdc\u001b[0m\u001b[1;33m,\u001b[0m \u001b[0mSimpleThenCompounded\u001b[0m\u001b[1;33m)\u001b[0m\u001b[1;33m\u001b[0m\u001b[0m\n\u001b[0m\u001b[0;32m      6\u001b[0m     \u001b[0mcalucaltedRates\u001b[0m\u001b[1;33m.\u001b[0m\u001b[0mappend\u001b[0m\u001b[1;33m(\u001b[0m\u001b[0mmyCurve\u001b[0m\u001b[1;33m.\u001b[0m\u001b[0mzeroRate\u001b[0m\u001b[1;33m(\u001b[0m\u001b[0mfutureDate\u001b[0m\u001b[1;33m,\u001b[0m \u001b[0mdc\u001b[0m\u001b[1;33m,\u001b[0m \u001b[0mSimpleThenCompounded\u001b[0m\u001b[1;33m)\u001b[0m\u001b[1;33m.\u001b[0m\u001b[0mrate\u001b[0m\u001b[1;33m(\u001b[0m\u001b[1;33m)\u001b[0m\u001b[1;33m*\u001b[0m\u001b[1;36m100\u001b[0m\u001b[1;33m)\u001b[0m\u001b[1;33m\u001b[0m\u001b[0m\n",
        "\u001b[1;32mD:\\Anaconda\\lib\\site-packages\\CAL\\CAL.pyc\u001b[0m in \u001b[0;36mzeroRate\u001b[1;34m(self, *args)\u001b[0m\n\u001b[0;32m  12472\u001b[0m \u001b[1;33m\u001b[0m\u001b[0m\n\u001b[0;32m  12473\u001b[0m         \"\"\"\n\u001b[1;32m> 12474\u001b[1;33m         \u001b[1;32mreturn\u001b[0m \u001b[0m_CAL\u001b[0m\u001b[1;33m.\u001b[0m\u001b[0mYieldTermStructure_zeroRate\u001b[0m\u001b[1;33m(\u001b[0m\u001b[0mself\u001b[0m\u001b[1;33m,\u001b[0m \u001b[1;33m*\u001b[0m\u001b[0margs\u001b[0m\u001b[1;33m)\u001b[0m\u001b[1;33m\u001b[0m\u001b[0m\n\u001b[0m\u001b[0;32m  12475\u001b[0m \u001b[1;33m\u001b[0m\u001b[0m\n\u001b[0;32m  12476\u001b[0m     \u001b[1;32mdef\u001b[0m \u001b[0mforwardRate\u001b[0m\u001b[1;33m(\u001b[0m\u001b[0mself\u001b[0m\u001b[1;33m,\u001b[0m \u001b[1;33m*\u001b[0m\u001b[0margs\u001b[0m\u001b[1;33m)\u001b[0m\u001b[1;33m:\u001b[0m\u001b[1;33m\u001b[0m\u001b[0m\n",
        "\u001b[1;31mRuntimeError\u001b[0m: 1st iteration: failed at 20th alive instrument, maturity March 15th, 2064, reference date March 14th, 2014: 2nd leg: time (50.0833) is past max curve time (50)"
       ]
      }
     ],
     "prompt_number": 42
    },
    {
     "cell_type": "code",
     "collapsed": false,
     "input": [
      "zeroCurve = res[res['curve_type'] == u'\u5373\u671f'][['tenor', 'yield_spread']]"
     ],
     "language": "python",
     "metadata": {},
     "outputs": [],
     "prompt_number": 21
    },
    {
     "cell_type": "code",
     "collapsed": false,
     "input": [
      "zeroCurve['calculated'] = [zeroCurve['yield_spread'][zeroCurve.index[0]]] + calucaltedRates\n",
      "zeroCurve.columns = ['Tenor', 'Expected', 'Calculated']\n",
      "zeroCurve['Diff. (bps)'] = (zeroCurve['Expected'] - zeroCurve['Calculated'])*100"
     ],
     "language": "python",
     "metadata": {},
     "outputs": [],
     "prompt_number": 22
    },
    {
     "cell_type": "code",
     "collapsed": false,
     "input": [
      "Plot(zeroCurve, settings = {'x':'Tenor', 'y':['Expected', 'Calculated', 'Diff. (bps)'], 'title':u'\u4e2d\u56fd\u94f6\u884c\u95f4\u5e02\u573a\u56fa\u5b9a\u5229\u7387\u56fd\u503a\u5373\u671f\u6536\u76ca\u7387 \uff082014-03-14\uff09'})"
     ],
     "language": "python",
     "metadata": {},
     "outputs": [],
     "prompt_number": 23
    },
    {
     "cell_type": "code",
     "collapsed": false,
     "input": [
      "# Test the calibration results\n",
      "discountEngine = DiscountingSwapEngine(curveHandle)\n",
      "curveHandle.linkTo(myCurve)\n",
      "for tenor, rate in zip(tenors, rates):\n",
      "    quote =SimpleQuote(rate)\n",
      "    schedule = Schedule(referenceDate, referenceDate + PeriodParser.parse(tenor), Period(1, Years), NullCalendar(), Unadjusted, Unadjusted, DateGeneration.Backward, False)\n",
      "    swap = VanillaSwap(VanillaSwap.Payer, 1, schedule, rate, dc, schedule, iborIndex, 0.0, dc)\n",
      "    swap.setPricingEngine(discountEngine)\n",
      "    print tenor, swap.NPV()"
     ],
     "language": "python",
     "metadata": {},
     "outputs": [
      {
       "output_type": "stream",
       "stream": "stdout",
       "text": [
        "2y -1.40165656859e-15\n",
        "3y -3.1918911958e-16\n",
        "4y -1.66533453694e-16\n",
        "5y -2.77555756156e-17\n",
        "6y -5.55111512313e-16\n",
        "7y -9.38693567321e-14\n",
        "8y 2.22044604925e-16\n",
        "9y 1.16684439888e-13\n",
        "10y -2.0378143617e-13\n",
        "15y 4.49973391881e-13\n",
        "20y -3.12749826037e-13\n",
        "30y -7.38187289073e-13\n",
        "40y -6.18172180111e-13\n",
        "50y 1.35558231307e-13\n"
       ]
      }
     ],
     "prompt_number": 24
    },
    {
     "cell_type": "code",
     "collapsed": false,
     "input": [],
     "language": "python",
     "metadata": {},
     "outputs": []
    }
   ],
   "metadata": {}
  }
 ]
}