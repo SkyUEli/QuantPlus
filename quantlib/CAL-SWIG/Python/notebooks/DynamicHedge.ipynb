{
 "metadata": {
  "name": ""
 },
 "nbformat": 3,
 "nbformat_minor": 0,
 "worksheets": [
  {
   "cells": [
    {
     "cell_type": "markdown",
     "metadata": {},
     "source": [
      "Vanilla\u671f\u6743\u52a8\u6001\u5bf9\u51b2\n",
      "================\n",
      "\u6b64\u6848\u4f8b\u4f7f\u7528\u4e07\u79d1\u771f\u5b9e\u80a1\u4ef7\uff0c\u865a\u62df1\u53ea\u5230\u671f\u671f\u9650\u4e3a12\u4e2a\u6708\u671f\u6743\u7684\u52a8\u6001\u5bf9\u51b2\u8fc7\u7a0b\u3002"
     ]
    },
    {
     "cell_type": "markdown",
     "metadata": {},
     "source": [
      "1. \u83b7\u53d6\u5e02\u573a\u80a1\u7968\u6570\u636e\n",
      "---------------"
     ]
    },
    {
     "cell_type": "code",
     "collapsed": false,
     "input": [
      "from CAL.PyCAL import *\n",
      "import pandas as pd\n",
      "import numpy as np\n",
      "from math import *"
     ],
     "language": "python",
     "metadata": {},
     "outputs": []
    },
    {
     "cell_type": "code",
     "collapsed": false,
     "input": [
      "histPrice = MarketDataGetHistDailyQuotes(securityID = \"000002.XSHE\", \n",
      "                                    fields = [\"closePrice\"], \n",
      "                                    startDate = \"20000106\", \n",
      "                                    endDate = \"20140110\" )"
     ],
     "language": "python",
     "metadata": {},
     "outputs": []
    },
    {
     "cell_type": "markdown",
     "metadata": {},
     "source": [
      "\u53d6\u80a1\u7968\u6570\u636e\u81ea2012\u5e7412\u670821\u65e5\u81f32013\u5e7412\u67081\u65e5"
     ]
    },
    {
     "cell_type": "code",
     "collapsed": false,
     "input": [
      "histPrice = histPrice[histPrice['tradeDate'] > pd.Timestamp('20130301')]\n",
      "histPrice = histPrice[histPrice['tradeDate'] < pd.Timestamp('20140201')]\n",
      "histPrice.index = np.arange(0, len(histPrice))\n",
      "Plot(histPrice, settings = {'x':'tradeDate', 'y':'closePrice', 'title':u'\u4e07\u79d1\u80a1\u4ef7\u8d70\u52bf'})"
     ],
     "language": "python",
     "metadata": {},
     "outputs": []
    },
    {
     "cell_type": "markdown",
     "metadata": {},
     "source": [
      "2. \u8ba1\u7b97\u671f\u6743\u4ef7\u683c\u4ee5\u53cadelta\uff0c\u5047\u8bbe\u671f\u6743\u4ee525%\u7684\u6ce2\u52a8\u7387\u5728\u5e02\u573a\u4e0a\u4ea4\u6613\n",
      "---------------------------------------------------"
     ]
    },
    {
     "cell_type": "markdown",
     "metadata": {},
     "source": [
      "\u9690\u542b\u6ce2\u52a8\u7387\u5047\u8bbe\u4e3a0.3\uff0c\u53ef\u4ee5\u901a\u8fc7\u6539\u53d8\u4e0b\u9762\u7684\u503c\uff0c\u6d4b\u7b97\u4e0d\u540c\u9690\u542b\u6ce2\u52a8\u7387\u60c5\u666f\u4e0b\uff0cDelta\u5bf9\u51b2\u7b56\u7565\u7684\u6548\u679c\u3002"
     ]
    },
    {
     "cell_type": "code",
     "collapsed": false,
     "input": [
      "volatility = 0.25"
     ],
     "language": "python",
     "metadata": {},
     "outputs": []
    },
    {
     "cell_type": "code",
     "collapsed": false,
     "input": [
      "strike = 10.0\n",
      "maturity = 1.0\n",
      "riskFree = 0.05\n",
      "dividend = 0.00\n",
      "\n",
      "endDate = histPrice['tradeDate'][0]+ pd.DateOffset(n=365*maturity)\n",
      "maturity = (endDate - histPrice['tradeDate'])\n",
      "\n",
      "maturityInYears = []\n",
      "for i, days in enumerate(maturity):\n",
      "    tmp = maturity[i]\n",
      "    tmp.astype('timedelta64[D]')\n",
      "    maturityInYears.append(tmp / np.timedelta64(1, 'D') / 365)\n",
      "\n",
      "optionPrice = BSMPrice(optionType = 1, \n",
      "                       strike = strike, \n",
      "                       spot = histPrice['closePrice'], \n",
      "                       riskFree = riskFree, \n",
      "                       dividend = dividend, \n",
      "                       volatility = volatility,\n",
      "                       maturity = maturityInYears)"
     ],
     "language": "python",
     "metadata": {},
     "outputs": []
    },
    {
     "cell_type": "code",
     "collapsed": false,
     "input": [
      "optionPrice[:10]"
     ],
     "language": "python",
     "metadata": {},
     "outputs": []
    },
    {
     "cell_type": "code",
     "collapsed": false,
     "input": [
      "histPrice['optionPrice'] = optionPrice['price']\n",
      "histPrice['delta'] = optionPrice['delta']\n",
      "histPrice[:10]"
     ],
     "language": "python",
     "metadata": {},
     "outputs": []
    },
    {
     "cell_type": "markdown",
     "metadata": {},
     "source": [
      "3. \u52a8\u6001\u5bf9\u51b2\uff1a\u521d\u59cb\u8d44\u91d11.0\n",
      "-------------------"
     ]
    },
    {
     "cell_type": "markdown",
     "metadata": {},
     "source": [
      "\u5efa\u7acb\u73b0\u91d1\u5e10\u6237CashAmout\uff0c\u8d44\u4ea7\u7ec4\u5408\u5e10\u6237totalAsset\u3002\u8d44\u4ea7\u7ec4\u5408\u521d\u59cb\u503c\u4e3a1\u5143\u3002"
     ]
    },
    {
     "cell_type": "code",
     "collapsed": false,
     "input": [
      "cashAmount = np.zeros(len(histPrice))\n",
      "totalAsset = np.zeros(len(histPrice))\n",
      "totalAsset[0] = 1.0\n",
      "cashAmount[0] = histPrice['closePrice'][0] * histPrice['delta'][0] - histPrice['optionPrice'][0] + totalAsset[0]"
     ],
     "language": "python",
     "metadata": {},
     "outputs": []
    },
    {
     "cell_type": "code",
     "collapsed": false,
     "input": [
      "for i in histPrice.index[1:]:\n",
      "    deltaTinDays = (histPrice['tradeDate'][i] - histPrice['tradeDate'][i-1])\n",
      "    deltaTinYears = deltaTinDays.days / 365.0\n",
      "    deltaChanged = histPrice['delta'][i] - histPrice['delta'][i-1]\n",
      "    cashTmp = cashAmount[i-1]* math.exp(riskFree*deltaTinYears)\n",
      "    cashTmp += deltaChanged * histPrice['closePrice'][i]\n",
      "    cashAmount[i] = cashTmp\n",
      "    totalAsset[i] = histPrice['optionPrice'][i] - histPrice['closePrice'][i] * histPrice['delta'][i] + cashAmount[i]\n",
      "\n",
      "histPrice['cash'] = cashAmount\n",
      "histPrice['portfolio'] = totalAsset"
     ],
     "language": "python",
     "metadata": {},
     "outputs": []
    },
    {
     "cell_type": "code",
     "collapsed": false,
     "input": [
      "histPrice[:10]"
     ],
     "language": "python",
     "metadata": {},
     "outputs": []
    },
    {
     "cell_type": "markdown",
     "metadata": {},
     "source": [
      "4. \u7ed8\u5236\u8d44\u4ea7\u7ec4\u5408\u66f2\u7ebf\n",
      "----------------\n",
      "\u7531\u4e8e\u671f\u6743\u7684\u4ea4\u6613\u6ce2\u52a8\u7387\u4f4e\u4e8e\u6807\u5e95\u80a1\u7968\u7684\u5b9e\u9645\u6ce2\u52a8\u7387\uff0c\u671f\u6743\u4ef7\u683c\u4f4e\u4f30\uff0c\u6211\u4eec\u53ef\u4ee5\u901a\u8fc7\u4ee5\u4e0a\u7684Delta\u5bf9\u51b2\u65b9\u5f0f\u83b7\u5229\u3002\n",
      "\n",
      "\u5f53\u671f\u6743\u7684\u4ea4\u6613\u6ce2\u52a8\u7387\u9ad8\u4e8e\u6807\u7684\u80a1\u7968\u7684\u5b9e\u9645\u6ce2\u52a8\u7387\uff0c\u671f\u6743\u4ef7\u683c\u9ad8\u4f30\uff0c\u4ee5\u4e0a\u7684Delta\u5bf9\u51b2\u65b9\u5f0f\u4f1a\u6709\u635f\u5931\u3002"
     ]
    },
    {
     "cell_type": "markdown",
     "metadata": {},
     "source": [
      "\u8ba1\u7b97\u4e07\u79d1\u80a1\u7968\u7684\u5b9e\u9645\u6ce2\u52a8\u7387"
     ]
    },
    {
     "cell_type": "code",
     "collapsed": false,
     "input": [
      "closePrice = histPrice['closePrice']\n",
      "dailyReturn = np.log(closePrice[:-1].values / closePrice[1:])\n",
      "histPrice['return'] = dailyReturn\n",
      "realizedVol = math.ceil(dailyReturn.std()*sqrt(252)*1000)/1000.0"
     ],
     "language": "python",
     "metadata": {},
     "outputs": []
    },
    {
     "cell_type": "code",
     "collapsed": false,
     "input": [
      "Plot(histPrice, settings = {'x':'tradeDate', 'y':['portfolio'], 'title':u'Delta\u5bf9\u51b2 P&L--\u9690\u542b\u6ce2\u52a8\u7387' + str(volatility) + u'--\u5b9e\u9645\u6ce2\u52a8\u7387' + str(realizedVol)})"
     ],
     "language": "python",
     "metadata": {},
     "outputs": []
    }
   ],
   "metadata": {}
  }
 ]
}