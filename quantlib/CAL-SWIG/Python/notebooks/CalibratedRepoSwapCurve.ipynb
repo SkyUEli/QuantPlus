{
 "metadata": {
  "name": ""
 },
 "nbformat": 3,
 "nbformat_minor": 0,
 "worksheets": [
  {
   "cells": [
    {
     "cell_type": "code",
     "collapsed": false,
     "input": [
      "import CAL"
     ],
     "language": "python",
     "metadata": {},
     "outputs": [],
     "prompt_number": 1
    },
    {
     "cell_type": "code",
     "collapsed": false,
     "input": [
      "# Curve reference date\n",
      "referenceDate = CAL.Date.todaysDate()\n",
      "CAL.Settings.instance().setEvaluationDate(referenceDate)"
     ],
     "language": "python",
     "metadata": {},
     "outputs": [],
     "prompt_number": 2
    },
    {
     "cell_type": "code",
     "collapsed": false,
     "input": [
      "# Index for fixing\n",
      "curveHandle = CAL.RelinkableYieldTermStructureHandle()\n",
      "repoIndex = CAL.RepoChina(CAL.Period(7, CAL.Days), curveHandle)"
     ],
     "language": "python",
     "metadata": {},
     "outputs": [],
     "prompt_number": 3
    },
    {
     "cell_type": "code",
     "collapsed": false,
     "input": [
      "# Setting up calibrated instruments\n",
      "# All are Chine repo swap based on 7 day repo rate\n",
      "rateInstruments = []\n",
      "for i in xrange(1,6):\n",
      "    quote = CAL.SimpleQuote((i+1)*0.01)\n",
      "    swap = CAL.IBFRSwapRateHelper(CAL.QuoteHandle(quote), CAL.Period(i, CAL.Years), CAL.Quarterly, repoIndex)\n",
      "    rateInstruments.append(swap)"
     ],
     "language": "python",
     "metadata": {},
     "outputs": [],
     "prompt_number": 4
    },
    {
     "cell_type": "code",
     "collapsed": false,
     "input": [
      "myCurve = CAL.PiecewiseLinearZero(referenceDate, rateInstruments, CAL.Actual360())"
     ],
     "language": "python",
     "metadata": {},
     "outputs": [],
     "prompt_number": 5
    },
    {
     "cell_type": "code",
     "collapsed": false,
     "input": [
      "# Print out the foward rate;\n",
      "forwardTenor = CAL.Period(3, CAL.Months)\n",
      "forwardStartDate = referenceDate\n",
      "forwardEndDate = referenceDate + forwardTenor\n",
      "for i in xrange(15):\n",
      "    print myCurve.forwardRate(forwardStartDate, forwardEndDate, CAL.Actual360(), CAL.Continuous)\n",
      "    forwardStartDate = forwardEndDate\n",
      "    forwardEndDate = forwardEndDate + forwardTenor"
     ],
     "language": "python",
     "metadata": {},
     "outputs": [
      {
       "output_type": "stream",
       "stream": "stdout",
       "text": [
        "1.940721 % Actual/360 continuous compounding\n",
        "1.940721 % Actual/360 continuous compounding\n",
        "1.940721 % Actual/360 continuous compounding\n",
        "1.940721 % Actual/360 continuous compounding\n",
        "3.048810 % Actual/360 continuous compounding\n",
        "3.640503 % Actual/360 continuous compounding\n",
        "4.140119 % Actual/360 continuous compounding\n",
        "4.639735 % Actual/360 continuous compounding\n",
        "5.145396 % Actual/360 continuous compounding\n",
        "5.643547 % Actual/360 continuous compounding\n",
        "6.146024 % Actual/360 continuous compounding\n",
        "6.648502 % Actual/360 continuous compounding\n",
        "7.240130 % Actual/360 continuous compounding\n",
        "7.761084 % Actual/360 continuous compounding\n",
        "8.280377 % Actual/360 continuous compounding\n"
       ]
      }
     ],
     "prompt_number": 6
    },
    {
     "cell_type": "code",
     "collapsed": false,
     "input": [
      "# Try to re price the swaps to see whether the calibration really works\n",
      "fixingDays = repoIndex.fixingDays()\n",
      "spotDate = CAL.China().advance(referenceDate, CAL.Period(fixingDays, CAL.Days))\n",
      "pricingEngine = CAL.DiscountingSwapEngine(curveHandle)\n",
      "curveHandle.linkTo(myCurve)\n",
      "for i in xrange(1,6):\n",
      "    swap = CAL.IBFRSwap(CAL.IBFRSwap.Payer, 100000.0, spotDate,  CAL.Period(i, CAL.Years),  CAL.Period(3, CAL.Months), (i+1)*0.01, 0.0, repoIndex)\n",
      "    swap.setPricingEngine(pricingEngine)\n",
      "    print swap.NPV()"
     ],
     "language": "python",
     "metadata": {},
     "outputs": [
      {
       "output_type": "stream",
       "stream": "stdout",
       "text": [
        "-1.81898940355e-11\n",
        "1.29784893943e-09\n",
        "5.71453711018e-08\n",
        "1.89174897969e-10\n",
        "2.91038304567e-11\n"
       ]
      }
     ],
     "prompt_number": 7
    },
    {
     "cell_type": "code",
     "collapsed": false,
     "input": [],
     "language": "python",
     "metadata": {},
     "outputs": [],
     "prompt_number": 7
    }
   ],
   "metadata": {}
  }
 ]
}