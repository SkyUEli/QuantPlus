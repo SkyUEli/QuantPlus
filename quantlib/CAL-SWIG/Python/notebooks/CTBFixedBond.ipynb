{
 "metadata": {
  "name": ""
 },
 "nbformat": 3,
 "nbformat_minor": 0,
 "worksheets": [
  {
   "cells": [
    {
     "cell_type": "code",
     "collapsed": false,
     "input": [
      "#First test case, 12\u9644\u606f14\uff0cAnnual bond, 120014\uff0cData Source: \u4e2d\u503a\u767b\n",
      "#\n",
      "\t\t\n",
      "#\t\t\t\tStatic Info\n",
      "#\t\t\t\tCode:         120014\n",
      "#\t\t\t\tIssue Date:   2012/8/16\n",
      "#\t\t\t\tMaturity:     2017/8/16\n",
      "#\t\t\t\tFrequency:    Annual\n",
      "#\t\t\t\tCoupon:       2.95%\n",
      "#\t\t\t\tFace  :       100\n",
      "\n",
      "#\t\t\t\tQuote\n",
      "#\t\t\t\tQuote Date:   2013/12/2\n",
      "#\t\t\t\tSettle Date:  2013/12/3\n",
      "#\t\t\t\tDirty Price:  96.314\n",
      "#\t\t\t\tClean Price:  95.4326\n",
      "#\t\t\t\tYTM:          4.3074%\n",
      "#\t\t\t\tAcccrued:     0.881"
     ],
     "language": "python",
     "metadata": {},
     "outputs": [],
     "prompt_number": 1
    },
    {
     "cell_type": "code",
     "collapsed": false,
     "input": [
      "import CAL"
     ],
     "language": "python",
     "metadata": {},
     "outputs": [],
     "prompt_number": 3
    },
    {
     "cell_type": "code",
     "collapsed": false,
     "input": [
      "issueDate = CAL.Date(16, CAL.August, 2012)\n",
      "startDate = CAL.Date(16, CAL.August, 2012)\n",
      "maturity = CAL.Date(16, CAL.August, 2017)\n",
      "tenor = CAL.Period(1, CAL.Years)\n",
      "coupon = 0.0295\n",
      "cleanPrice = 95.4326"
     ],
     "language": "python",
     "metadata": {},
     "outputs": [],
     "prompt_number": 22
    },
    {
     "cell_type": "code",
     "collapsed": false,
     "input": [
      "settleDate = CAL.Date(3, CAL.December, 2013)"
     ],
     "language": "python",
     "metadata": {},
     "outputs": [],
     "prompt_number": 24
    },
    {
     "cell_type": "code",
     "collapsed": false,
     "input": [
      "bond120014 = CAL.CTBFixedBond(issueDate = issueDate,\n",
      "                              settlementDays = 1,\n",
      "                              faceAmount = 100,\n",
      "                              startDate = startDate,\n",
      "                              maturity = maturity,\n",
      "                              tenor = tenor,\n",
      "                              coupons = [coupon])"
     ],
     "language": "python",
     "metadata": {},
     "outputs": [],
     "prompt_number": 25
    },
    {
     "cell_type": "code",
     "collapsed": false,
     "input": [
      "# Calculate accrued amount\n",
      "print bond120014.accruedAmount(settleDate)"
     ],
     "language": "python",
     "metadata": {},
     "outputs": [
      {
       "output_type": "stream",
       "stream": "stdout",
       "text": [
        "0.88095890411\n"
       ]
      }
     ],
     "prompt_number": 28
    },
    {
     "cell_type": "code",
     "collapsed": false,
     "input": [
      "# Calcute yield based on known clean price\n",
      "print bond120014.bondYield(cleanPrice, CAL.ActualActualNoLeap(), CAL.Compounded, CAL.Annual, settleDate)*100"
     ],
     "language": "python",
     "metadata": {},
     "outputs": [
      {
       "output_type": "stream",
       "stream": "stdout",
       "text": [
        "4.3074192524\n"
       ]
      }
     ],
     "prompt_number": 34
    },
    {
     "cell_type": "code",
     "collapsed": false,
     "input": [
      "CAL.CTBFixedBond?"
     ],
     "language": "python",
     "metadata": {},
     "outputs": [],
     "prompt_number": 33
    },
    {
     "cell_type": "code",
     "collapsed": false,
     "input": [],
     "language": "python",
     "metadata": {},
     "outputs": []
    }
   ],
   "metadata": {}
  }
 ]
}