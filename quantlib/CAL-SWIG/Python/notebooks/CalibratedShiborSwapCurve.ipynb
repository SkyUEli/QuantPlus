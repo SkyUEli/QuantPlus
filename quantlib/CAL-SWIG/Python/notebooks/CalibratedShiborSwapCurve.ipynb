{
 "metadata": {
  "name": "",
  "signature": "sha256:ee80d140f3a5fa41e1afb4f397f81065e1dd64e82b37d3daaca47144eb74b903"
 },
 "nbformat": 3,
 "nbformat_minor": 0,
 "worksheets": [
  {
   "cells": [
    {
     "cell_type": "code",
     "collapsed": false,
     "input": [
      "import CAL"
     ],
     "language": "python",
     "metadata": {},
     "outputs": [],
     "prompt_number": 7
    },
    {
     "cell_type": "code",
     "collapsed": false,
     "input": [
      "# Curve reference date\n",
      "referenceDate = CAL.Date.todaysDate()\n",
      "CAL.Settings.instance().setEvaluationDate(referenceDate)"
     ],
     "language": "python",
     "metadata": {},
     "outputs": [],
     "prompt_number": 8
    },
    {
     "cell_type": "code",
     "collapsed": false,
     "input": [
      "# Index for fixing\n",
      "curveHandle = CAL.RelinkableYieldTermStructureHandle()\n",
      "shiborIndex = CAL.Shibor(CAL.Period(3, CAL.Months), curveHandle)"
     ],
     "language": "python",
     "metadata": {},
     "outputs": [],
     "prompt_number": 9
    },
    {
     "cell_type": "code",
     "collapsed": false,
     "input": [
      "# Setting up calibrated instruments\n",
      "# All are Chine shibor swap based on 3m shibor rate\n",
      "rateInstruments = []\n",
      "for i in xrange(1,6):\n",
      "    quote = CAL.SimpleQuote((i+1)*0.01)\n",
      "    swap = CAL.ShiborSwapRateHelper(CAL.QuoteHandle(quote), CAL.Period(i, CAL.Years), CAL.Quarterly, shiborIndex)\n",
      "    rateInstruments.append(swap)"
     ],
     "language": "python",
     "metadata": {},
     "outputs": [],
     "prompt_number": 10
    },
    {
     "cell_type": "code",
     "collapsed": false,
     "input": [
      "myCurve = CAL.PiecewiseLinearZero(referenceDate, rateInstruments, CAL.Actual360())"
     ],
     "language": "python",
     "metadata": {},
     "outputs": [],
     "prompt_number": 11
    },
    {
     "cell_type": "code",
     "collapsed": false,
     "input": [
      "# Print out the foward rate;\n",
      "forwardTenor = CAL.Period(3, CAL.Months)\n",
      "forwardStartDate = referenceDate\n",
      "forwardEndDate = referenceDate + forwardTenor\n",
      "for i in xrange(15):\n",
      "    print myCurve.forwardRate(forwardStartDate, forwardEndDate, CAL.Actual360(), CAL.Continuous)\n",
      "    forwardStartDate = forwardEndDate\n",
      "    forwardEndDate = forwardEndDate + forwardTenor"
     ],
     "language": "python",
     "metadata": {},
     "outputs": [
      {
       "output_type": "stream",
       "stream": "stdout",
       "text": [
        "1.967687 % Actual/360 continuous compounding\n",
        "1.967687 % Actual/360 continuous compounding\n",
        "1.967687 % Actual/360 continuous compounding\n",
        "1.967687 % Actual/360 continuous compounding\n",
        "3.195048 % Actual/360 continuous compounding\n",
        "3.703995 % Actual/360 continuous compounding\n",
        "4.204749 % Actual/360 continuous compounding\n",
        "4.702781 % Actual/360 continuous compounding\n",
        "5.241560 % Actual/360 continuous compounding\n",
        "5.749806 % Actual/360 continuous compounding\n",
        "6.260398 % Actual/360 continuous compounding\n",
        "6.765440 % Actual/360 continuous compounding\n",
        "7.405713 % Actual/360 continuous compounding\n",
        "7.939876 % Actual/360 continuous compounding\n",
        "8.472589 % Actual/360 continuous compounding\n"
       ]
      }
     ],
     "prompt_number": 12
    },
    {
     "cell_type": "code",
     "collapsed": false,
     "input": [
      "# Try to re price the swaps to see whether the calibration really works\n",
      "fixingDays = shiborIndex.fixingDays()\n",
      "spotDate = CAL.China().advance(referenceDate, CAL.Period(fixingDays, CAL.Days))\n",
      "pricingEngine = CAL.DiscountingSwapEngine(curveHandle)\n",
      "curveHandle.linkTo(myCurve)\n",
      "for i in xrange(1,6):\n",
      "    swap = CAL.ShiborSwap(CAL.VanillaSwap.Payer, 100000.0, spotDate,  CAL.Period(i, CAL.Years),  CAL.Period(3, CAL.Months),\n",
      "                          (i+1)*0.01, CAL.Period(3, CAL.Months), curveHandle)\n",
      "    swap.setPricingEngine(pricingEngine)\n",
      "    print swap.NPV()"
     ],
     "language": "python",
     "metadata": {},
     "outputs": [
      {
       "output_type": "stream",
       "stream": "stdout",
       "text": [
        "-9.54969436862e-12\n",
        "1.80716597242e-09\n",
        "8.18545231596e-11\n",
        "4.72937244922e-11\n",
        "6.54836185277e-11\n"
       ]
      }
     ],
     "prompt_number": 15
    },
    {
     "cell_type": "code",
     "collapsed": false,
     "input": [],
     "language": "python",
     "metadata": {},
     "outputs": [],
     "prompt_number": 13
    },
    {
     "cell_type": "code",
     "collapsed": false,
     "input": [],
     "language": "python",
     "metadata": {},
     "outputs": [],
     "prompt_number": 12
    }
   ],
   "metadata": {}
  }
 ]
}