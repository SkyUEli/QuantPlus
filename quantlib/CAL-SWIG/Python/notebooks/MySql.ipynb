{
 "metadata": {
  "name": "",
  "signature": "sha256:0991c1d4d526ba7e48eca273485429e9b7ab9ffdc5f4506a51f31d78bb0f9a31"
 },
 "nbformat": 3,
 "nbformat_minor": 0,
 "worksheets": [
  {
   "cells": [
    {
     "cell_type": "code",
     "collapsed": false,
     "input": [
      "import pandas.io.sql as psql\n",
      "import MySQLdb\n",
      "import pandas as pd\n",
      "from CAL.PyCAL import *"
     ],
     "language": "python",
     "metadata": {},
     "outputs": [],
     "prompt_number": 3
    },
    {
     "cell_type": "code",
     "collapsed": false,
     "input": [
      "DB_USER = 'cheng.li_fixedin'\n",
      "DB_PWD = 'JQrInblr8dIoECWN'\n",
      "HOST = '10.20.111.101'\n",
      "DB_NAME = 'securitymaster2'"
     ],
     "language": "python",
     "metadata": {},
     "outputs": [],
     "prompt_number": 4
    },
    {
     "cell_type": "code",
     "collapsed": false,
     "input": [
      "conn = MySQLdb.connect(host=HOST,user=DB_USER,passwd=DB_PWD,db=DB_NAME, charset='utf8')"
     ],
     "language": "python",
     "metadata": {},
     "outputs": [],
     "prompt_number": 12
    },
    {
     "cell_type": "code",
     "collapsed": false,
     "input": [
      "sql = 'SELECT * FROM securitymaster2.curve'"
     ],
     "language": "python",
     "metadata": {},
     "outputs": [],
     "prompt_number": 6
    },
    {
     "cell_type": "code",
     "collapsed": false,
     "input": [
      "df = psql.frame_query(sql, con=conn) "
     ],
     "language": "python",
     "metadata": {},
     "outputs": [],
     "prompt_number": 7
    },
    {
     "cell_type": "code",
     "collapsed": false,
     "input": [
      "res = df.groupby('CURVE_CD').count()"
     ],
     "language": "python",
     "metadata": {},
     "outputs": [],
     "prompt_number": 9
    },
    {
     "cell_type": "code",
     "collapsed": false,
     "input": [
      "res"
     ],
     "language": "python",
     "metadata": {},
     "outputs": [
      {
       "html": [
        "<div style=\"max-height:1000px;max-width:1500px;overflow:auto;\">\n",
        "<table border=\"1\" class=\"dataframe\">\n",
        "  <thead>\n",
        "    <tr style=\"text-align: right;\">\n",
        "      <th></th>\n",
        "      <th>ID</th>\n",
        "      <th>CURVE_CD</th>\n",
        "      <th>CURVE_TYPE</th>\n",
        "      <th>DATA_DT</th>\n",
        "      <th>TENOR</th>\n",
        "      <th>SCENARIO_CD</th>\n",
        "      <th>FWD_TENOR_BEGIN</th>\n",
        "      <th>FWD_TENOR_END</th>\n",
        "      <th>RATE</th>\n",
        "      <th>BASE_RATE</th>\n",
        "      <th>SPREAD</th>\n",
        "      <th>UPDATE_TIME</th>\n",
        "    </tr>\n",
        "    <tr>\n",
        "      <th>CURVE_CD</th>\n",
        "      <th></th>\n",
        "      <th></th>\n",
        "      <th></th>\n",
        "      <th></th>\n",
        "      <th></th>\n",
        "      <th></th>\n",
        "      <th></th>\n",
        "      <th></th>\n",
        "      <th></th>\n",
        "      <th></th>\n",
        "      <th></th>\n",
        "      <th></th>\n",
        "    </tr>\n",
        "  </thead>\n",
        "  <tbody>\n",
        "    <tr>\n",
        "      <th>YC_CHN</th>\n",
        "      <td> 544017</td>\n",
        "      <td> 544017</td>\n",
        "      <td> 544017</td>\n",
        "      <td> 544017</td>\n",
        "      <td> 544017</td>\n",
        "      <td> 544017</td>\n",
        "      <td> 544017</td>\n",
        "      <td> 544017</td>\n",
        "      <td> 544017</td>\n",
        "      <td> 0</td>\n",
        "      <td> 0</td>\n",
        "      <td> 544017</td>\n",
        "    </tr>\n",
        "  </tbody>\n",
        "</table>\n",
        "<p>1 rows \u00d7 12 columns</p>\n",
        "</div>"
       ],
       "metadata": {},
       "output_type": "pyout",
       "prompt_number": 10,
       "text": [
        "              ID  CURVE_CD  CURVE_TYPE  DATA_DT   TENOR  SCENARIO_CD  \\\n",
        "CURVE_CD                                                               \n",
        "YC_CHN    544017    544017      544017   544017  544017       544017   \n",
        "\n",
        "          FWD_TENOR_BEGIN  FWD_TENOR_END    RATE  BASE_RATE  SPREAD  \\\n",
        "CURVE_CD                                                              \n",
        "YC_CHN             544017         544017  544017          0       0   \n",
        "\n",
        "          UPDATE_TIME  \n",
        "CURVE_CD               \n",
        "YC_CHN         544017  \n",
        "\n",
        "[1 rows x 12 columns]"
       ]
      }
     ],
     "prompt_number": 10
    },
    {
     "cell_type": "code",
     "collapsed": false,
     "input": [
      "res.columns"
     ],
     "language": "python",
     "metadata": {},
     "outputs": [
      {
       "metadata": {},
       "output_type": "pyout",
       "prompt_number": 11,
       "text": [
        "Index([u'ID', u'CURVE_CD', u'CURVE_TYPE', u'DATA_DT', u'TENOR', u'SCENARIO_CD', u'FWD_TENOR_BEGIN', u'FWD_TENOR_END', u'RATE', u'BASE_RATE', u'SPREAD', u'UPDATE_TIME'], dtype='object')"
       ]
      }
     ],
     "prompt_number": 11
    },
    {
     "cell_type": "code",
     "collapsed": false,
     "input": [],
     "language": "python",
     "metadata": {},
     "outputs": []
    }
   ],
   "metadata": {}
  }
 ]
}