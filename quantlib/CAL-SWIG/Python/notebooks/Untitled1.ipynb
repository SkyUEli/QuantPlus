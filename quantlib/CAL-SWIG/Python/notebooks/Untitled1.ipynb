{
 "metadata": {
  "name": "",
  "signature": "sha256:a2a4e65e0beae93ba82959ffe0d89f59644345c286acb9e4172b3ddff09eb5b7"
 },
 "nbformat": 3,
 "nbformat_minor": 0,
 "worksheets": []
}