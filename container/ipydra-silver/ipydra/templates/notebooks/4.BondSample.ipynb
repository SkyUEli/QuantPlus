{
 "metadata": {
  "name": ""
 },
 "nbformat": 3,
 "nbformat_minor": 0,
 "worksheets": [
  {
   "cells": [
    {
     "cell_type": "heading",
     "level": 2,
     "metadata": {},
     "source": [
      "1. \u865a\u62df\u503a\u5238\uff1a\u4ee5\u56fa\u5b9a\u5229\u7387\u4e0e\u5230\u671f\u6536\u76ca\u7387\u8ba1\u7b9715\u5e74\u5230\u671f\u865a\u62df\u503a\u5238\u4ef7\u683c\u7684\u65f6\u95f4\u5e8f\u5217"
     ]
    },
    {
     "cell_type": "raw",
     "metadata": {},
     "source": [
      "\u8d77\u606f\u65e5    \uff1a1999\u5e7412\u670820\u65e5\n",
      "\u671f\u9650      \uff1a15\u5e74\n",
      "\u7968\u606f      \uff1a0.06\n",
      "\u5230\u671f\u6536\u76ca\u7387\uff1a0.05\n",
      "\u4ed8\u606f\u9891\u7387  : 1\u5e741\u6b21"
     ]
    },
    {
     "cell_type": "code",
     "collapsed": false,
     "input": [
      "from CAL.PyCAL import *\n",
      "import pandas as pd"
     ],
     "language": "python",
     "metadata": {},
     "outputs": []
    },
    {
     "cell_type": "code",
     "collapsed": false,
     "input": [
      "evaluationDate = pd.date_range('20000101', '20140325')"
     ],
     "language": "python",
     "metadata": {},
     "outputs": []
    },
    {
     "cell_type": "code",
     "collapsed": false,
     "input": [
      "bondPrice = FixedRateBondEval(evaluationDate  = evaluationDate, \n",
      "                          startDate = pd.Timestamp('19991220'), \n",
      "                          tenor = 15, \n",
      "                          coupon = 0.06, \n",
      "                          ytm = 0.05, \n",
      "                          compounding = 0, \n",
      "                          frequency = 1, \n",
      "                          DayCounter = 1)\n",
      "bondPrice['tradeDate'] = evaluationDate"
     ],
     "language": "python",
     "metadata": {},
     "outputs": []
    },
    {
     "cell_type": "code",
     "collapsed": false,
     "input": [
      "bondPrice[:10]"
     ],
     "language": "python",
     "metadata": {},
     "outputs": []
    },
    {
     "cell_type": "code",
     "collapsed": false,
     "input": [
      "Plot(bondPrice, settings = {'x':'tradeDate', 'y': ['cleanPrice', 'dirtyPrice'],'title':u'\u4e07\u79d1\u503a\u5238\u865a\u62df\u4ef7\u683c 2010-2014'})"
     ],
     "language": "python",
     "metadata": {},
     "outputs": []
    },
    {
     "cell_type": "code",
     "collapsed": false,
     "input": [
      "Plot(bondPrice, settings = {'x':'tradeDate', 'y': ['accruedAmount'],'title':u'\u4e07\u79d1\u503a\u5238\u865a\u62df\u5e94\u8ba1\u5229\u606f 2010-2014'})"
     ],
     "language": "python",
     "metadata": {},
     "outputs": []
    },
    {
     "cell_type": "code",
     "collapsed": false,
     "input": [
      "Plot(bondPrice, settings = {'x':'tradeDate', 'y': ['modifiedDuration','convexity'],'title':u'\u4e07\u79d1\u503a\u5238\u865a\u62df\u4e45\u671f\u4e0e\u51f8\u6027 2010-2014'})"
     ],
     "language": "python",
     "metadata": {},
     "outputs": []
    },
    {
     "cell_type": "heading",
     "level": 2,
     "metadata": {},
     "source": [
      "2. \u56fa\u5b9a\u5229\u7387\u503a\u5238\u6536\u76ca\u7387\u60c5\u666f\u5206\u6790"
     ]
    },
    {
     "cell_type": "code",
     "collapsed": false,
     "input": [
      "ytm = np.linspace(0.0,0.8,81)"
     ],
     "language": "python",
     "metadata": {},
     "outputs": []
    },
    {
     "cell_type": "code",
     "collapsed": false,
     "input": [
      "bondPrice = FixedRateBondEval(evaluationDate  = pd.Timestamp('20140310'), \n",
      "                          startDate = pd.Timestamp('19991220'), \n",
      "                          tenor = 15, \n",
      "                          coupon = 0.06, \n",
      "                          ytm = ytm, \n",
      "                          compounding = 0, \n",
      "                          frequency = 1, \n",
      "                          DayCounter = 1)\n",
      "bondPrice['yield'] = ytm"
     ],
     "language": "python",
     "metadata": {},
     "outputs": []
    },
    {
     "cell_type": "code",
     "collapsed": false,
     "input": [
      "bondPrice[25:35]"
     ],
     "language": "python",
     "metadata": {},
     "outputs": []
    },
    {
     "cell_type": "code",
     "collapsed": false,
     "input": [
      "Plot(bondPrice, settings = {'x':'yield','y':['cleanPrice','dirtyPrice'],'title':u'\u4e07\u79d1\u503a\u5238\u6536\u76ca\u7387\u4ef7\u683c\u66f2\u7ebf 20140110','kind': 'Line'})"
     ],
     "language": "python",
     "metadata": {},
     "outputs": []
    },
    {
     "cell_type": "heading",
     "level": 3,
     "metadata": {},
     "source": [
      "2.1 \u4f7f\u7528\u4e45\u671f\u5bf9\u4ef7\u683c\u5173\u4e8e\u6536\u76ca\u7387\u7684\u53d8\u5316\u505a\u4e00\u9636\u903c\u8fd1"
     ]
    },
    {
     "cell_type": "code",
     "collapsed": false,
     "input": [
      "benchmarYield = 0.3\n",
      "distance = bondPrice['yield'] - benchmarYield\n",
      "bondPrice['distance'] = distance\n",
      "benchmarkPrice = bondPrice[bondPrice['yield'] == benchmarYield]['cleanPrice'].values\n",
      "P = bondPrice[bondPrice['yield'] == benchmarYield]['dirtyPrice'].values\n",
      "benchmarkDuration = bondPrice[bondPrice['yield'] == benchmarYield]['modifiedDuration'].values\n",
      "benchmarkConvexity = bondPrice[bondPrice['yield'] == benchmarYield]['convexity'].values\n",
      "bondPrice['DurationAppr.'] =  - bondPrice['distance'] * benchmarkDuration * P + benchmarkPrice"
     ],
     "language": "python",
     "metadata": {},
     "outputs": []
    },
    {
     "cell_type": "code",
     "collapsed": false,
     "input": [
      "Plot(bondPrice, settings = {'x':'yield','y':['cleanPrice','DurationAppr.'],'title':u'\u4e07\u79d1\u503a\u5238\u6536\u76ca\u7387\u4ef7\u683c\u66f2\u7ebf \u4e45\u671f\u903c\u8fd1 20140110','kind': 'Line'})"
     ],
     "language": "python",
     "metadata": {},
     "outputs": []
    },
    {
     "cell_type": "heading",
     "level": 3,
     "metadata": {},
     "source": [
      "2.2 \u4f7f\u7528\u4e45\u671f\u4e0e\u51f8\u6027\u5bf9\u4ef7\u683c\u5173\u4e8e\u6536\u76ca\u7387\u7684\u53d8\u5316\u505a\u4e8c\u9636\u903c\u8fd1"
     ]
    },
    {
     "cell_type": "code",
     "collapsed": false,
     "input": [
      "bondPrice['DurationConvexityAppr.'] =  - bondPrice['distance'] * benchmarkDuration * P + + 0.5 * bondPrice['distance'] * bondPrice['distance'] * benchmarkConvexity * P + benchmarkPrice "
     ],
     "language": "python",
     "metadata": {},
     "outputs": []
    },
    {
     "cell_type": "code",
     "collapsed": false,
     "input": [
      "Plot(bondPrice, settings = {'x':'yield','y':['cleanPrice','DurationConvexityAppr.'],'title':u'\u4e07\u79d1\u503a\u5238\u6536\u76ca\u7387\u4ef7\u683c\u66f2\u7ebf \u4e45\u671f\u51f8\u6027\u903c\u8fd1 20140110','kind': 'Line'})"
     ],
     "language": "python",
     "metadata": {},
     "outputs": []
    }
   ],
   "metadata": {}
  }
 ]
}