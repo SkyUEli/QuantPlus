{
 "metadata": {
  "name": ""
 },
 "nbformat": 3,
 "nbformat_minor": 0,
 "worksheets": [
  {
   "cells": [
    {
     "cell_type": "code",
     "collapsed": false,
     "input": [
      "from CAL.PyCAL import *\n",
      "import numpy as np\n",
      "import pandas as pd\n",
      "from dateutil import *"
     ],
     "language": "python",
     "metadata": {},
     "outputs": []
    },
    {
     "cell_type": "markdown",
     "metadata": {},
     "source": [
      "\u6536\u76ca\u7387\u66f2\u7ebf\uff08\u4e0d\u540c\u7684\u63d2\u503c\u65b9\u6cd5\uff0c\u4e0d\u540c\u7684\u5229\u7387\u7c7b\u578b\uff09\n",
      "======================================"
     ]
    },
    {
     "cell_type": "markdown",
     "metadata": {},
     "source": [
      "1. \u57fa\u4e8e\u4e0d\u540c\u7684\u63d2\u503c\u65b9\u6cd5\u83b7\u53d6\u6536\u76ca\u7387\n",
      "--------------------------"
     ]
    },
    {
     "cell_type": "code",
     "collapsed": false,
     "input": [
      "benchmarkDates = [pd.Timestamp('20140101'), pd.Timestamp('20140701'), \n",
      "                  pd.Timestamp('20150101'), pd.Timestamp('20170101'), pd.Timestamp('20190101'), \n",
      "                  pd.Timestamp('20210101'), pd.Timestamp('20240101')]\n",
      "benchmarkRates = [0.04, 0.04, 0.045, 0.048, 0.05, 0.051, 0.052]"
     ],
     "language": "python",
     "metadata": {},
     "outputs": []
    },
    {
     "cell_type": "code",
     "collapsed": false,
     "input": [
      "linearZero = YieldCurve(benchmarkDates, benchmarkRates, interp = 'linear')\n",
      "cubicZero = YieldCurve(benchmarkDates, benchmarkRates, interp = 'cubic')\n",
      "loglinearZero = YieldCurve(benchmarkDates, benchmarkRates, interp = 'loglinear')"
     ],
     "language": "python",
     "metadata": {},
     "outputs": []
    },
    {
     "cell_type": "code",
     "collapsed": false,
     "input": [
      "startDates = pd.date_range('20140101','20240101')\n",
      "delta = relativedelta.relativedelta(months=3)\n",
      "endDates = startDates.map(lambda x: x + delta)"
     ],
     "language": "python",
     "metadata": {},
     "outputs": []
    },
    {
     "cell_type": "code",
     "collapsed": false,
     "input": [
      "linearRates = ForwardRate(linearZero, startDates, endDates)\n",
      "cubicRates = ForwardRate(cubicZero, startDates, endDates)\n",
      "loglinearRates = ForwardRate(loglinearZero, startDates, endDates)\n",
      "\n",
      "ratesDF = pd.DataFrame({'Linear':linearRates['forwardRate'].values,\n",
      "                            'Cubic':cubicRates['forwardRate'].values,\n",
      "                            'LogLinear':loglinearRates['forwardRate'].values})\n",
      "ratesDF[u'\u65e5\u671f'] = startDates"
     ],
     "language": "python",
     "metadata": {},
     "outputs": []
    },
    {
     "cell_type": "code",
     "collapsed": false,
     "input": [
      "Plot(ratesDF, settings = {'x':u'\u65e5\u671f', 'y':['Linear', 'Cubic', 'LogLinear'], \n",
      "                          'title':u'\u57fa\u51c6\u6536\u76ca\u7387\u5728\u4e0d\u540c\u7684\u63d2\u503c\u65b9\u6cd5\u4e4b\u4e0b\u7684\u8fdc\u671f\u66f2\u7ebf'})"
     ],
     "language": "python",
     "metadata": {},
     "outputs": []
    },
    {
     "cell_type": "markdown",
     "metadata": {},
     "source": [
      "2. \u540c\u4e00\u6536\u76ca\u7387\u66f2\u7ebf\u7684\u4e0d\u540c\u8868\u8fbe\uff08\u6298\u73b0\u56e0\u5b50\uff0c\u96f6\u606f\u5229\u7387\uff0c\u8fdc\u671f\u5229\u7387\uff09\n",
      "--------------------------------------------------"
     ]
    },
    {
     "cell_type": "code",
     "collapsed": false,
     "input": [
      "cubicZero = YieldCurve(benchmarkDates, benchmarkRates, interp = 'cubic')"
     ],
     "language": "python",
     "metadata": {},
     "outputs": []
    },
    {
     "cell_type": "code",
     "collapsed": false,
     "input": [
      "startDates = pd.date_range('20140101','20240101')\n",
      "delta = relativedelta.relativedelta(months=3)\n",
      "endDates = startDates.map(lambda x: x + delta)"
     ],
     "language": "python",
     "metadata": {},
     "outputs": []
    },
    {
     "cell_type": "code",
     "collapsed": false,
     "input": [
      "discountFactor = DiscountFactor(cubicZero, startDates)\n",
      "zeroRates = ZeroYield(cubicZero, startDates)\n",
      "forwardRates = ForwardRate(cubicZero, startDates, endDates)"
     ],
     "language": "python",
     "metadata": {},
     "outputs": []
    },
    {
     "cell_type": "code",
     "collapsed": false,
     "input": [
      "ratesDF = pd.DataFrame({'Discount':discountFactor['discount'].values,\n",
      "                            'Zero':zeroRates['zeroYield'].values,\n",
      "                            'Forward':forwardRates['forwardRate'].values})\n",
      "ratesDF['dates'] = startDates"
     ],
     "language": "python",
     "metadata": {},
     "outputs": []
    },
    {
     "cell_type": "code",
     "collapsed": false,
     "input": [
      "Plot(ratesDF, settings = {'x':'dates', \n",
      "                          'title':u'\u57fa\u51c6\u6536\u76ca\u7387\u66f2\u7ebf\u4e0d\u540c\u8868\u8fbe\u5f62\u5f0f',\n",
      "                          'secondary_y': ['Zero', 'Forward']})"
     ],
     "language": "python",
     "metadata": {},
     "outputs": []
    }
   ],
   "metadata": {}
  }
 ]
}