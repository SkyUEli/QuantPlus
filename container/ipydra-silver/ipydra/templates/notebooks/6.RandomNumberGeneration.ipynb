{
 "metadata": {
  "name": ""
 },
 "nbformat": 3,
 "nbformat_minor": 0,
 "worksheets": [
  {
   "cells": [
    {
     "cell_type": "heading",
     "level": 1,
     "metadata": {},
     "source": [
      "CAL\u968f\u673a\u6570\u53d1\u751f\u5668\u4e0enumpy\u81ea\u5e26\u7248\u672c\u7684\u6bd4\u8f83"
     ]
    },
    {
     "cell_type": "code",
     "collapsed": false,
     "input": [
      "from CAL.PyCAL import *\n",
      "import numpy as np\n",
      "import pandas as pd\n",
      "from math import *"
     ],
     "language": "python",
     "metadata": {},
     "outputs": []
    },
    {
     "cell_type": "code",
     "collapsed": false,
     "input": [
      "numpyRandn = np.random.randn(5000,2)\n",
      "calMTRandn = StandardNormalGeneration((5000,2), seed = 1, method = 'MT')\n",
      "calSobolRandn = StandardNormalGeneration((5000,2), seed = 1, method = 'Sobol')"
     ],
     "language": "python",
     "metadata": {},
     "outputs": []
    },
    {
     "cell_type": "code",
     "collapsed": false,
     "input": [
      "npRandnDF = pd.DataFrame({'x': numpyRandn[:,0], 'y': numpyRandn[:,1]})\n",
      "calMTDF = pd.DataFrame({'x': calMTRandn[:,0], 'y': calMTRandn[:,1]})\n",
      "calSobolDF = pd.DataFrame({'x': calSobolRandn[:,0], 'y': calSobolRandn[:,1]})"
     ],
     "language": "python",
     "metadata": {},
     "outputs": []
    },
    {
     "cell_type": "code",
     "collapsed": false,
     "input": [
      "Plot(npRandnDF, settings = {'x':'x', 'y':'y', 'kind':'Scatter', 'title':u'Numpy\u81ea\u5e26\u6b63\u6001\u5206\u5e03\u968f\u673a\u6570'})\n",
      "Plot(calMTDF, settings = {'x':'x', 'y':'y', 'kind':'Scatter', 'title':u'CAL\u63d0\u4f9bMersenne Twister\u6b63\u6001\u5206\u5e03\u968f\u673a\u6570'})\n",
      "Plot(calSobolDF, settings = {'x':'x', 'y':'y', 'kind':'Scatter', 'title':u'CAL\u63d0\u4f9bSobol\u6b63\u6001\u5206\u5e03\u968f\u673a\u6570'})"
     ],
     "language": "python",
     "metadata": {},
     "outputs": []
    },
    {
     "cell_type": "heading",
     "level": 2,
     "metadata": {},
     "source": [
      "1. \u6b27\u5f0f\u671f\u6743\u5b9a\u4ef7\u57fa\u4e8eMonte Carlo\uff08\u5206\u522b\u4f7f\u7528\u4ee5\u4e0a\u4e09\u79cd\u968f\u673a\u6570\uff09"
     ]
    },
    {
     "cell_type": "code",
     "collapsed": false,
     "input": [
      "maturity = 2.0\n",
      "vol = 0.25\n",
      "riskFree = 0.05\n",
      "div = 0.02\n",
      "spot = 100.0\n",
      "strike = 105.0\n",
      "optionType = 1\n",
      "\n",
      "analytic = BSMPrice(optionType, strike, spot, riskFree, div, vol, maturity)"
     ],
     "language": "python",
     "metadata": {},
     "outputs": []
    },
    {
     "cell_type": "code",
     "collapsed": false,
     "input": [
      "def priceByMC(optionType, strike, spot, riskFree, div, vol, maturity, randn):\n",
      "    sqrtT = sqrt(maturity)\n",
      "    finalS = spot * np.exp((riskFree - div - 0.5*vol**2)*maturity + randn * vol * sqrtT)\n",
      "    if optionType == 1:\n",
      "        payoff = np.maximum(finalS - strike, 0)\n",
      "    else:\n",
      "        payoff = np.maximum(- finalS + strike, 0)\n",
      "        \n",
      "    dicountedPayOff = exp(-riskFree*maturity) * payoff\n",
      "    return np.average(dicountedPayOff)"
     ],
     "language": "python",
     "metadata": {},
     "outputs": []
    },
    {
     "cell_type": "code",
     "collapsed": false,
     "input": [
      "samplesLength = np.logspace(start = 10, stop = 22,  num = 13, base = 2).astype('int')\n",
      "npRes= []\n",
      "calMTRes = []\n",
      "calSobolRes = []"
     ],
     "language": "python",
     "metadata": {},
     "outputs": []
    },
    {
     "cell_type": "code",
     "collapsed": false,
     "input": [
      "for samples in samplesLength:\n",
      "    sampleRandn = np.random.randn(samples,1)\n",
      "    res = priceByMC(optionType, strike, spot, riskFree, div, vol, maturity, sampleRandn)\n",
      "    npRes.append(res)"
     ],
     "language": "python",
     "metadata": {},
     "outputs": []
    },
    {
     "cell_type": "code",
     "collapsed": false,
     "input": [
      "for samples in samplesLength:\n",
      "    sampleRandn = StandardNormalGeneration((samples,1), seed = 1, method = 'Sobol')\n",
      "    res = priceByMC(optionType, strike, spot, riskFree, div, vol, maturity, sampleRandn)\n",
      "    calSobolRes.append(res)"
     ],
     "language": "python",
     "metadata": {},
     "outputs": []
    },
    {
     "cell_type": "code",
     "collapsed": false,
     "input": [
      "for samples in samplesLength:\n",
      "    sampleRandn = StandardNormalGeneration((samples,1), seed = 1, method = 'MT')\n",
      "    res = priceByMC(optionType, strike, spot, riskFree, div, vol, maturity, sampleRandn)\n",
      "    calMTRes.append(res)"
     ],
     "language": "python",
     "metadata": {},
     "outputs": []
    },
    {
     "cell_type": "code",
     "collapsed": false,
     "input": [
      "convergenceTable = pd.DataFrame(\n",
      "                                {'samples 2^x':np.log2(samplesLength),\n",
      "                                 'analytic':analytic['price'][1],\n",
      "                                 'np.Randn':npRes,\n",
      "                                 'CAL.MT':calMTRes,\n",
      "                                 'CAL.Sobol':calSobolRes})\n",
      "convergenceTable = convergenceTable.reindex(columns = ['samples 2^x', 'analytic', 'np.Randn', 'CAL.MT', 'CAL.Sobol'])"
     ],
     "language": "python",
     "metadata": {},
     "outputs": []
    },
    {
     "cell_type": "markdown",
     "metadata": {},
     "source": [
      "\u4e0d\u540c\u968f\u673a\u6570\u7684\u6536\u655b\u901f\u5ea6\u4e0d\u4e00\uff0cSobol\u5e8f\u5217\u5728\u8be5\u4f8b\u4e0b\u5177\u6709\u6700\u4f18\u7684\u6536\u655b\u901f\u5ea6\u3002"
     ]
    },
    {
     "cell_type": "code",
     "collapsed": false,
     "input": [
      "convergenceTable"
     ],
     "language": "python",
     "metadata": {},
     "outputs": []
    },
    {
     "cell_type": "code",
     "collapsed": false,
     "input": [
      "analyticValue = convergenceTable['analytic'][0]\n",
      "Plot(convergenceTable, settings = {'x':'samples 2^x',\n",
      "                                   'y':['analytic', 'np.Randn', 'CAL.MT', 'CAL.Sobol'], 'ylim':(analyticValue - 0.6,analyticValue + 0.6),\n",
      "                                   'title':u'\u4e0d\u540c\u968f\u673a\u6570\u53d1\u751f\u5668\u6536\u655b\u901f\u5ea6\u6bd4\u8f83'})"
     ],
     "language": "python",
     "metadata": {},
     "outputs": []
    },
    {
     "cell_type": "code",
     "collapsed": false,
     "input": [],
     "language": "python",
     "metadata": {},
     "outputs": []
    }
   ],
   "metadata": {}
  }
 ]
}